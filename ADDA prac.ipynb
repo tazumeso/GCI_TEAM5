{
 "cells": [
  {
   "cell_type": "code",
   "execution_count": 1,
   "metadata": {},
   "outputs": [],
   "source": [
    "%matplotlib inline \n",
    "import matplotlib.pyplot as plt\n",
    "import chainer\n",
    "from chainer import links as L\n",
    "from chainer import functions as F\n",
    "from chainer.functions.evaluation import accuracy\n",
    "from chainer import reporter\n",
    "from sklearn.datasets import fetch_mldata\n",
    "import os\n",
    "os.environ['CUDA_VISIBLE_DEVICES'] = \"3\"\n",
    "\n",
    "mnist = fetch_mldata('MNIST original')\n",
    "X, y = mnist.data, mnist.target"
   ]
  },
  {
   "cell_type": "code",
   "execution_count": 2,
   "metadata": {},
   "outputs": [],
   "source": [
    "class Encoder(chainer.Chain):\n",
    "\n",
    "    def __init__(self, h=256, dropout=0.5):\n",
    "        super(Encoder, self).__init__()\n",
    "        self.dropout = dropout\n",
    "        initialW = chainer.initializers.HeNormal()\n",
    "        self.conv1 = L.Convolution2D(3, 8, ksize=5, stride=1,\n",
    "                                         initialW=initialW)\n",
    "        self.conv2 = L.Convolution2D(8, 16, ksize=5, stride=1,\n",
    "                                         initialW=initialW)\n",
    "        self.conv3 = L.Convolution2D(16, 120, ksize=4, stride=1,\n",
    "                                         initialW=initialW)\n",
    "        self.fc4 = L.Linear(None, 500, initialW=initialW)\n",
    "\n",
    "    def __call__(self, x):\n",
    "        h = F.max_pooling_2d(F.relu(self.conv1(x)), 2, 2)\n",
    "        h = F.max_pooling_2d(F.relu(self.conv2(h)), 2, 2)\n",
    "        h = F.dropout(F.relu(self.conv3(h)), ratio=self.dropout)\n",
    "        h = F.dropout(F.relu(self.fc4(h)), ratio=self.dropout)\n",
    "        return h"
   ]
  },
  {
   "cell_type": "code",
   "execution_count": 3,
   "metadata": {
    "collapsed": true
   },
   "outputs": [
    {
     "data": {
      "image/png": "[encoded data removed]",
      "text/plain": [
       "<matplotlib.figure.Figure at 0x7f162abd67b8>"
      ]
     },
     "metadata": {},
     "output_type": "display_data"
    }
   ],
   "source": [
    "plt.imshow(X[0].reshape(28, 28), cmap=\"gray\")\n",
    "plt.show()"
   ]
  },
  {
   "cell_type": "code",
   "execution_count": 21,
   "metadata": {},
   "outputs": [
    {
     "data": {
      "text/plain": [
       "(70000, 784)"
      ]
     },
     "execution_count": 21,
     "metadata": {},
     "output_type": "execute_result"
    }
   ],
   "source": [
    "X.shape"
   ]
  },
  {
   "cell_type": "code",
   "execution_count": 23,
   "metadata": {},
   "outputs": [
    {
     "data": {
      "text/plain": [
       "(70000, 28, 28)"
      ]
     },
     "execution_count": 23,
     "metadata": {},
     "output_type": "execute_result"
    }
   ],
   "source": [
    "X = X.reshape(-1, 28, 28)"
   ]
  },
  {
   "cell_type": "code",
   "execution_count": 19,
   "metadata": {},
   "outputs": [],
   "source": [
    "en = Encoder()"
   ]
  },
  {
   "cell_type": "code",
   "execution_count": 11,
   "metadata": {
    "scrolled": true
   },
   "outputs": [],
   "source": [
    "hoge = X[0].reshape(28, 28)[None, None, : , :]"
   ]
  },
  {
   "cell_type": "code",
   "execution_count": 14,
   "metadata": {},
   "outputs": [
    {
     "ename": "TypeError",
     "evalue": "__call__() missing 1 required positional argument: 'x'",
     "output_type": "error",
     "traceback": [
      "\u001b[0;31m---------------------------------------------------------------------------\u001b[0m",
      "\u001b[0;31mTypeError\u001b[0m                                 Traceback (most recent call last)",
      "\u001b[0;32m<ipython-input-14-7e3a6bd09a33>\u001b[0m in \u001b[0;36m<module>\u001b[0;34m()\u001b[0m\n\u001b[0;32m----> 1\u001b[0;31m \u001b[0men\u001b[0m\u001b[0;34m(\u001b[0m\u001b[0;34m)\u001b[0m\u001b[0;34m\u001b[0m\u001b[0m\n\u001b[0m",
      "\u001b[0;31mTypeError\u001b[0m: __call__() missing 1 required positional argument: 'x'"
     ]
    }
   ],
   "source": [
    "en()"
   ]
  },
  {
   "cell_type": "code",
   "execution_count": 11,
   "metadata": {},
   "outputs": [],
   "source": [
    "class Encoder(chainer.Chain):\n",
    "\n",
    "    def __init__(self, h=256, dropout=0.5):\n",
    "        super(Encoder, self).__init__()\n",
    "        self.dropout = dropout\n",
    "        initialW = chainer.initializers.HeNormal()\n",
    "        self.conv1 = L.Convolution2D(3, 8, ksize=5, stride=1,\n",
    "                                         initialW=initialW)\n",
    "        self.conv2 = L.Convolution2D(8, 16, ksize=5, stride=1,\n",
    "                                         initialW=initialW)\n",
    "        self.conv3 = L.Convolution2D(16, 120, ksize=4, stride=1,\n",
    "                                         initialW=initialW)\n",
    "        self.fc4 = L.Linear(None, 500, initialW=initialW)\n",
    "\n",
    "    def __call__(self, x):\n",
    "        h = F.max_pooling_2d(F.relu(self.conv1(x)), 2, 2)\n",
    "        h = F.max_pooling_2d(F.relu(self.conv2(h)), 2, 2)\n",
    "        h = F.dropout(F.relu(self.conv3(h)), ratio=self.dropout)\n",
    "        h = F.dropout(F.relu(self.fc4(h)), ratio=self.dropout)\n",
    "        return h\n",
    "\n",
    "\n",
    "class Discriminator(chainer.Chain):\n",
    "\n",
    "    def __init__(self, h=500):\n",
    "        super(Discriminator, self).__init__()\n",
    "        initialW = chainer.initializers.HeNormal()\n",
    "        with self.init_scope():\n",
    "            self.l1 = L.Linear(None, h, initialW=initialW)\n",
    "            self.l2 = L.Linear(h, h, initialW=initialW)\n",
    "            self.l3 = L.Linear(h, 2, initialW=initialW)\n",
    "\n",
    "    def __call__(self, x):\n",
    "        l1 = F.leaky_relu(self.l1(x))\n",
    "        l2 = F.leaky_relu(self.l2(l1))\n",
    "        out = self.l3(l2)\n",
    "        return out\n",
    "\n",
    "\n",
    "class Classifier(chainer.Chain):\n",
    "\n",
    "    def __init__(self, num_classes, dropout=0.5):\n",
    "        super(Classifier, self).__init__()\n",
    "        initialW = chainer.initializers.HeNormal()\n",
    "        self.dropout = dropout\n",
    "        with self.init_scope():\n",
    "            self.l1 = L.Linear(None, num_classes, initialW=initialW)\n",
    "\n",
    "    def __call__(self, x):\n",
    "        prediction = self.l1(x)\n",
    "        return prediction\n",
    "\n",
    "\n",
    "class Loss(chainer.Chain):\n",
    "\n",
    "    def __init__(self, num_classes):\n",
    "        super(Loss, self).__init__()\n",
    "        initialW = chainer.initializers.HeNormal()\n",
    "        with self.init_scope():\n",
    "            self.encoder = Encoder()\n",
    "            self.classifier = Classifier(num_classes)\n",
    "\n",
    "    def __call__(self, x, t):\n",
    "        encode = self.encoder(x)\n",
    "        classify = self.classifier(encode)\n",
    "\n",
    "        self.accuracy = accuracy.accuracy(classify, t)\n",
    "        self.loss = F.softmax_cross_entropy(classify, t)\n",
    "\n",
    "        reporter.report({\"accuracy\": self.accuracy, \"loss\": self.loss}, self)\n",
    "        return self.loss"
   ]
  },
  {
   "cell_type": "code",
   "execution_count": null,
   "metadata": {},
   "outputs": [],
   "source": []
  },
  {
   "cell_type": "code",
   "execution_count": 10,
   "metadata": {},
   "outputs": [
    {
     "data": {
      "text/plain": [
       "array([[0, 0, 0, ..., 0, 0, 0],\n",
       "       [0, 0, 0, ..., 0, 0, 0],\n",
       "       [0, 0, 0, ..., 0, 0, 0],\n",
       "       ..., \n",
       "       [0, 0, 0, ..., 0, 0, 0],\n",
       "       [0, 0, 0, ..., 0, 0, 0],\n",
       "       [0, 0, 0, ..., 0, 0, 0]], dtype=uint8)"
      ]
     },
     "execution_count": 10,
     "metadata": {},
     "output_type": "execute_result"
    }
   ],
   "source": []
  }
 ],
 "metadata": {
  "kernelspec": {
   "display_name": "Python 3",
   "language": "python",
   "name": "python3"
  },
  "language_info": {
   "codemirror_mode": {
    "name": "ipython",
    "version": 3
   },
   "file_extension": ".py",
   "mimetype": "text/x-python",
   "name": "python",
   "nbconvert_exporter": "python",
   "pygments_lexer": "ipython3",
   "version": "3.4.3"
  }
 },
 "nbformat": 4,
 "nbformat_minor": 2
}
