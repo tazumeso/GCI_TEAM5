{
 "cells": [
  {
   "cell_type": "code",
   "execution_count": 1,
   "metadata": {},
   "outputs": [
    {
     "name": "stderr",
     "output_type": "stream",
     "text": [
      "Using TensorFlow backend.\n"
     ]
    }
   ],
   "source": [
    "%matplotlib inline\n",
    "import matplotlib.pyplot as plt\n",
    "import numpy as np\n",
    "import pandas as pd\n",
    "from sklearn.linear_model import LogisticRegression\n",
    "\n",
    "from keras import backend as K\n",
    "from keras.models import Sequential\n",
    "from keras.layers import Dense, Activation\n",
    "\n",
    "\n",
    "\n",
    "train_data = pd.read_csv(\"./data/train.csv\")\n",
    "test_data = pd.read_csv(\"./data/test.csv\")\n",
    "id_period_mapping = pd.read_csv(\"./data/id_period_mapping.csv\")\n",
    "test_data[\"period\"] = id_period_mapping[\"period\"]\n",
    "sample_submission = pd.read_csv(\"./data/sample_submit.csv\", header=None)\n",
    "test_data.index = test_data[\"data_id\"]\n",
    "\n",
    "mask = (train_data[\"period\"] == \"train9\") | (train_data[\"period\"] == \"train6\") | (train_data[\"period\"] == \"train4\") | (train_data[\"period\"] == \"train7\") | \\\n",
    "(train_data[\"period\"] == \"train5\") | (train_data[\"period\"] == \"train3\") | (train_data[\"period\"] == \"train1\") | (train_data[\"period\"] == \"train14\") | \\\n",
    "(train_data[\"period\"] == \"train13\") | (train_data[\"period\"] == \"train11\") | (train_data[\"period\"] == \"train10\") | (train_data[\"period\"] == \"train2\") | \\\n",
    "(train_data[\"period\"] == \"train12\") | (train_data[\"period\"] == \"train10\") | (train_data[\"period\"] == \"train14\")\n",
    "train_data = train_data[mask]\n",
    "\n",
    "train_y = train_data.iloc[:, -1]\n",
    "\n",
    "l = [1, 2, 3, 4, 5, 6, 7, 9, 10, 11, 12, 13, 14]\n",
    "dfx = pd.DataFrame()\n",
    "for i in l:\n",
    "    dfi = train_data[train_data.period == \"train{}\".format(i)].iloc[:, 2:90]\n",
    "    dfx = dfx.append((dfi - dfi.mean()) / dfi.std())\n",
    "train_X = dfx\n",
    "dfx = pd.DataFrame()\n",
    "for i in range(1, 11):\n",
    "    dfi = test_data[test_data.period == \"test{}\".format(i)].iloc[:, 1:-1]\n",
    "    dfx = dfx.append((dfi - dfi.mean()) / dfi.std())\n",
    "test_X = dfx\n",
    "test_X = test_X.loc[test_data.index]"
   ]
  },
  {
   "cell_type": "code",
   "execution_count": 2,
   "metadata": {},
   "outputs": [],
   "source": [
    "concat_train_X = pd.concat([train_X, test_X])\n",
    "\n",
    "\n",
    "# concat_train_X = concat_train_X.drop([u'c5', u'c6', u'c7', u'c8', u'c10', u'c13', u'c17', u'c18', u'c19',\n",
    "#        u'c23', u'c28', u'c32', u'c34', u'c37', u'c41', u'c42', u'c45', u'c46',\n",
    "#        u'c52', u'c54', u'c55', u'c58', u'c60', u'c62', u'c63', u'c65', u'c70',\n",
    "#        u'c75', u'c82', u'c84', u'c85', u'c86', #欠損値\n",
    "#        u'c38', u'c49', u'c69', u'c29', u'c79', u'c83', u'c77', u'c1', u'c51', #追加 → 10にしたら悪くなる\n",
    "#        u'c72', u'c73', u'c64', u'c9', u'c78', u'c16', u'c30', u'c71', u'c83',\n",
    "#        u'c45', u'c65', u'c50', u'c87', u'c64'], axis=1)\n",
    "\n",
    "#concat_train_X = concat_train_X[[\"c12\", \"c80\", \"c48\", \"c81\"]] # 0.69218 → 0.69208\n",
    "\n",
    "concat_train_X = concat_train_X[[\"c12\", \"c80\", \"c48\", \"c81\",\n",
    "                                 \"c68\", \"c56\", \"c27\", \"c67\", \"c20\", \"c4\"]] # 0.69391\n",
    "\n",
    "concat_train_X = np.array(concat_train_X)"
   ]
  },
  {
   "cell_type": "markdown",
   "metadata": {},
   "source": [
    "単一モデルの場合"
   ]
  },
  {
   "cell_type": "code",
   "execution_count": null,
   "metadata": {},
   "outputs": [],
   "source": [
    "model = Sequential()\n",
    "model.add(Dense(1024, input_dim=concat_train_X.shape[1]))\n",
    "model.add(Activation('relu'))\n",
    "model.add(Dense(4))\n",
    "model.add(Activation('relu'))\n",
    "model.add(Dense(1024))\n",
    "model.add(Activation('relu'))\n",
    "model.add(Dense(concat_train_X.shape[1]))\n",
    "\n",
    "model.compile(optimizer='adam',\n",
    "              loss='mean_squared_error',\n",
    "              metrics=['accuracy'])"
   ]
  },
  {
   "cell_type": "code",
   "execution_count": null,
   "metadata": {},
   "outputs": [],
   "source": [
    "model.fit(concat_train_X, concat_train_X, nb_epoch=3, batch_size=32)"
   ]
  },
  {
   "cell_type": "code",
   "execution_count": null,
   "metadata": {},
   "outputs": [],
   "source": [
    "# with a Sequential model\n",
    "get_2nd_layer_output = K.function([model.layers[0].input],\n",
    "                                  [model.layers[2].output])\n",
    "layer_output = get_2nd_layer_output([concat_train_X])[0]\n",
    "\n",
    "train_feature = layer_output[:520000, :]\n",
    "test_feature = layer_output[520000:, :]\n",
    "\n",
    "train_y = np.array(train_y)\n",
    "bias = np.ones(520000)\n",
    "train_feature = np.c_[train_feature, bias]\n",
    "bias = np.ones(361500)\n",
    "test_feature = np.c_[test_feature, bias]"
   ]
  },
  {
   "cell_type": "markdown",
   "metadata": {},
   "source": [
    "アンサンブルする場合"
   ]
  },
  {
   "cell_type": "code",
   "execution_count": 4,
   "metadata": {},
   "outputs": [
    {
     "name": "stdout",
     "output_type": "stream",
     "text": [
      "Epoch 1/5\n",
      "881500/881500 [==============================] - 49s - loss: 0.4400 - acc: 0.4622    \n",
      "Epoch 2/5\n",
      "881500/881500 [==============================] - 49s - loss: 0.3871 - acc: 0.4915    - ETA: 0s - loss: 0.3870 - acc: 0.49 - ETA: 0s - lo - ETA: 0s - loss: 0.3871 - \n",
      "Epoch 3/5\n",
      "881500/881500 [==============================] - 49s - loss: 0.3709 - acc: 0.5059    - ETA: 0s - loss: - ETA: 0s - loss: 0 - ETA: 0s - loss: 0.37\n",
      "Epoch 4/5\n",
      "881500/881500 [==============================] - 49s - loss: 0.3632 - acc: 0.5156    - ETA: 0s - loss: 0.3632 - a\n",
      "Epoch 5/5\n",
      "881500/881500 [==============================] - 49s - loss: 0.3562 - acc: 0.5224    \n",
      "Epoch 1/5\n",
      "881500/881500 [==============================] - 49s - loss: 0.4437 - acc: 0.4157    \n",
      "Epoch 2/5\n",
      "881500/881500 [==============================] - 48s - loss: 0.3900 - acc: 0.4553    - ETA: 0s - loss: 0.3900\n",
      "Epoch 3/5\n",
      "881500/881500 [==============================] - 47s - loss: 0.3741 - acc: 0.4731    \n",
      "Epoch 4/5\n",
      "881500/881500 [==============================] - 48s - loss: 0.3640 - acc: 0.4865    - ETA: 0s - loss: 0.\n",
      "Epoch 5/5\n",
      "881500/881500 [==============================] - 48s - loss: 0.3572 - acc: 0.4956    \n",
      "Epoch 1/5\n",
      "881500/881500 [==============================] - 48s - loss: 0.4430 - acc: 0.4605    \n",
      "Epoch 2/5\n",
      "881500/881500 [==============================] - 48s - loss: 0.3894 - acc: 0.4759    - ETA: 0\n",
      "Epoch 3/5\n",
      "881500/881500 [==============================] - 48s - loss: 0.3721 - acc: 0.4881    - ETA: 1s - loss: 0.3720 - acc: 0.48 - ETA: 1s - - ETA: 0s - loss:\n",
      "Epoch 4/5\n",
      "881500/881500 [==============================] - 48s - loss: 0.3633 - acc: 0.4944    \n",
      "Epoch 5/5\n",
      "881500/881500 [==============================] - 48s - loss: 0.3590 - acc: 0.4998    - ETA: 0s - loss: 0.3590 - acc: 0.499\n",
      "Epoch 1/5\n",
      "881500/881500 [==============================] - 48s - loss: 0.4365 - acc: 0.4214    \n",
      "Epoch 2/5\n",
      "881500/881500 [==============================] - 48s - loss: 0.3828 - acc: 0.4615    \n",
      "Epoch 3/5\n",
      "881500/881500 [==============================] - 48s - loss: 0.3636 - acc: 0.4836    \n",
      "Epoch 4/5\n",
      "881500/881500 [==============================] - 48s - loss: 0.3523 - acc: 0.5021    - ETA: 2s - loss: 0.3524  - ETA: 2s - loss: 0.3525 - acc: 0.\n",
      "Epoch 5/5\n",
      "881500/881500 [==============================] - 48s - loss: 0.3429 - acc: 0.5177    - ETA: 0s - loss: 0.3429 - acc: 0.5\n",
      "Epoch 1/5\n",
      "881500/881500 [==============================] - 49s - loss: 0.4420 - acc: 0.4820    \n",
      "Epoch 2/5\n",
      "881500/881500 [==============================] - 48s - loss: 0.3855 - acc: 0.5116    - ETA: 0s - loss: 0.3857 - acc: 0.5 - ETA: 0s - loss: 0.3857 - \n",
      "Epoch 3/5\n",
      "881500/881500 [==============================] - 48s - loss: 0.3705 - acc: 0.5198    - ETA: 0s - \n",
      "Epoch 4/5\n",
      "881500/881500 [==============================] - 48s - loss: 0.3599 - acc: 0.5238    \n",
      "Epoch 5/5\n",
      "881500/881500 [==============================] - 48s - loss: 0.3531 - acc: 0.5284    - ETA: 0s - loss: 0.3530 - acc: 0.52 - ETA: 0s - los\n"
     ]
    }
   ],
   "source": [
    "pred_list = []\n",
    "for i in range(5):\n",
    "    model = Sequential()\n",
    "    model.add(Dense(1024, input_dim=concat_train_X.shape[1]))\n",
    "    model.add(Activation('relu'))\n",
    "    model.add(Dense(4))\n",
    "    model.add(Activation('relu'))\n",
    "    model.add(Dense(1024))\n",
    "    model.add(Activation('relu'))\n",
    "    model.add(Dense(concat_train_X.shape[1]))\n",
    "\n",
    "    model.compile(optimizer='adam',\n",
    "                  loss='mean_squared_error',\n",
    "                  metrics=['accuracy'])\n",
    "    model.fit(concat_train_X, concat_train_X, nb_epoch=5, batch_size=128)\n",
    "    \n",
    "    # with a Sequential model\n",
    "    get_2nd_layer_output = K.function([model.layers[0].input],\n",
    "                                      [model.layers[2].output])\n",
    "    layer_output = get_2nd_layer_output([concat_train_X])[0]\n",
    "\n",
    "    train_feature = layer_output[:520000, :]\n",
    "    test_feature = layer_output[520000:, :]\n",
    "\n",
    "    train_y = np.array(train_y)\n",
    "    bias = np.ones(520000)\n",
    "    train_feature = np.c_[train_feature, bias]\n",
    "    bias = np.ones(361500)\n",
    "    test_feature = np.c_[test_feature, bias]\n",
    "    \n",
    "    w = np.linalg.inv(train_feature.T.dot(train_feature)).dot(train_feature.T).dot(train_y)\n",
    "    pred = w.dot(test_feature.T)\n",
    "    pred_list.append(pred)"
   ]
  },
  {
   "cell_type": "code",
   "execution_count": 5,
   "metadata": {},
   "outputs": [],
   "source": [
    "sample_submission[1] = np.average(pred_list, 0)"
   ]
  },
  {
   "cell_type": "markdown",
   "metadata": {},
   "source": [
    "線形回帰"
   ]
  },
  {
   "cell_type": "code",
   "execution_count": 133,
   "metadata": {},
   "outputs": [],
   "source": [
    "w = np.linalg.inv(train_feature.T.dot(train_feature)).dot(train_feature.T).dot(train_y)\n",
    "sample_submission[1] = w.dot(test_feature.T)"
   ]
  },
  {
   "cell_type": "code",
   "execution_count": 139,
   "metadata": {},
   "outputs": [
    {
     "name": "stderr",
     "output_type": "stream",
     "text": [
      "/usr/local/lib/python3.4/dist-packages/ipykernel_launcher.py:1: SettingWithCopyWarning: \n",
      "A value is trying to be set on a copy of a slice from a DataFrame\n",
      "\n",
      "See the caveats in the documentation: http://pandas.pydata.org/pandas-docs/stable/indexing.html#indexing-view-versus-copy\n",
      "  \"\"\"Entry point for launching an IPython kernel.\n"
     ]
    }
   ],
   "source": [
    "sample_submission[1][sample_submission[1] < 0.1] = 0.1"
   ]
  },
  {
   "cell_type": "markdown",
   "metadata": {},
   "source": [
    "## 結果確認"
   ]
  },
  {
   "cell_type": "code",
   "execution_count": 6,
   "metadata": {},
   "outputs": [],
   "source": [
    "sample_submission.to_csv(\"result2.csv\", index=0)"
   ]
  },
  {
   "cell_type": "code",
   "execution_count": 7,
   "metadata": {},
   "outputs": [
    {
     "data": {
      "text/plain": [
       "0.49997308017645903"
      ]
     },
     "execution_count": 7,
     "metadata": {},
     "output_type": "execute_result"
    }
   ],
   "source": [
    "sample_submission.iloc[:, 1].mean()"
   ]
  },
  {
   "cell_type": "code",
   "execution_count": 8,
   "metadata": {},
   "outputs": [
    {
     "data": {
      "text/plain": [
       "0.56558181614183145"
      ]
     },
     "execution_count": 8,
     "metadata": {},
     "output_type": "execute_result"
    }
   ],
   "source": [
    "sample_submission[1].max()"
   ]
  },
  {
   "cell_type": "code",
   "execution_count": 9,
   "metadata": {},
   "outputs": [
    {
     "data": {
      "text/plain": [
       "0.23333341676661412"
      ]
     },
     "execution_count": 9,
     "metadata": {},
     "output_type": "execute_result"
    }
   ],
   "source": [
    "sample_submission[1].min()"
   ]
  },
  {
   "cell_type": "code",
   "execution_count": 10,
   "metadata": {},
   "outputs": [
    {
     "data": {
      "image/png": "[encoded data removed]",
      "text/plain": [
       "<matplotlib.figure.Figure at 0x7fd729ea4048>"
      ]
     },
     "metadata": {},
     "output_type": "display_data"
    }
   ],
   "source": [
    "plt.style.use(\"ggplot\")\n",
    "plt.hist(sample_submission[1], bins=50)\n",
    "plt.show()"
   ]
  },
  {
   "cell_type": "markdown",
   "metadata": {},
   "source": [
    "- アンサンブルもしたい"
   ]
  }
 ],
 "metadata": {
  "kernelspec": {
   "display_name": "Python 3",
   "language": "python",
   "name": "python3"
  },
  "language_info": {
   "codemirror_mode": {
    "name": "ipython",
    "version": 3
   },
   "file_extension": ".py",
   "mimetype": "text/x-python",
   "name": "python",
   "nbconvert_exporter": "python",
   "pygments_lexer": "ipython3",
   "version": "3.4.3"
  }
 },
 "nbformat": 4,
 "nbformat_minor": 2
}
