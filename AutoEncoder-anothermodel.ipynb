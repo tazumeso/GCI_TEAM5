{
 "cells": [
  {
   "cell_type": "code",
   "execution_count": 1,
   "metadata": {},
   "outputs": [
    {
     "name": "stderr",
     "output_type": "stream",
     "text": [
      "Using TensorFlow backend.\n"
     ]
    }
   ],
   "source": [
    "%matplotlib inline\n",
    "import matplotlib.pyplot as plt\n",
    "import numpy as np\n",
    "import pandas as pd\n",
    "from sklearn.linear_model import LogisticRegression\n",
    "\n",
    "from keras import backend as K\n",
    "from keras.models import Sequential\n",
    "from keras.layers import Dense, Activation\n",
    "from keras.models import Model, load_model\n",
    "from keras.layers import Input, Dense\n",
    "from keras import regularizers\n",
    "\n",
    "import tensorflow as tf\n",
    "import os \n",
    "os.environ['CUDA_VISIBLE_DEVICES'] = \"3\"\n",
    "# config = tf.ConfigProto(\n",
    "#     gpu_options=tf.GPUOptions(\n",
    "#         per_process_gpu_memory_fraction=0.1 # 最大値の50%まで\n",
    "#     )\n",
    "# )\n",
    "config = tf.ConfigProto(\n",
    "    gpu_options=tf.GPUOptions(\n",
    "        allow_growth=True # True->必要になったら確保, False->全部\n",
    "    )\n",
    ")\n",
    "sess = tf.Session(config=config)\n",
    "\n",
    "\n",
    "\n",
    "train_data = pd.read_csv(\"./data/train.csv\")\n",
    "test_data = pd.read_csv(\"./data/test.csv\")\n",
    "id_period_mapping = pd.read_csv(\"./data/id_period_mapping.csv\")\n",
    "test_data[\"period\"] = id_period_mapping[\"period\"]\n",
    "sample_submission = pd.read_csv(\"./data/sample_submit.csv\", header=None)\n",
    "test_data.index = test_data[\"data_id\"]\n",
    "\n",
    "mask = (train_data[\"period\"] == \"train9\") | (train_data[\"period\"] == \"train6\") | (train_data[\"period\"] == \"train4\") | (train_data[\"period\"] == \"train7\") | \\\n",
    "(train_data[\"period\"] == \"train5\") | (train_data[\"period\"] == \"train3\") | (train_data[\"period\"] == \"train1\") | (train_data[\"period\"] == \"train14\") | \\\n",
    "(train_data[\"period\"] == \"train13\") | (train_data[\"period\"] == \"train11\") | (train_data[\"period\"] == \"train10\") | (train_data[\"period\"] == \"train2\") | \\\n",
    "(train_data[\"period\"] == \"train12\") | (train_data[\"period\"] == \"train10\") | (train_data[\"period\"] == \"train14\")\n",
    "train_data = train_data[mask]\n",
    "\n",
    "train_y = train_data.iloc[:, -1]\n",
    "\n",
    "l = [1, 2, 3, 4, 5, 6, 7, 9, 10, 11, 12, 13, 14]\n",
    "dfx = pd.DataFrame()\n",
    "for i in l:\n",
    "    dfi = train_data[train_data.period == \"train{}\".format(i)].iloc[:, 2:90]\n",
    "    dfx = dfx.append((dfi - dfi.mean()) / dfi.std())\n",
    "train_X = dfx\n",
    "dfx = pd.DataFrame()\n",
    "for i in range(1, 11):\n",
    "    dfi = test_data[test_data.period == \"test{}\".format(i)].iloc[:, 1:-1]\n",
    "    dfx = dfx.append((dfi - dfi.mean()) / dfi.std())\n",
    "test_X = dfx\n",
    "test_X = test_X.loc[test_data.index]"
   ]
  },
  {
   "cell_type": "code",
   "execution_count": 2,
   "metadata": {},
   "outputs": [],
   "source": [
    "concat_train_X = pd.concat([train_X, test_X])\n",
    "\n",
    "concat_train_X = concat_train_X[[\"c12\", \"c80\", \"c48\", \"c81\"]] # 0.69218 → 0.69208\n",
    "\n",
    "#concat_train_X = concat_train_X[[\"c12\", \"c80\", \"c48\", \"c81\",\n",
    "#                                 \"c68\", \"c56\", \"c27\", \"c67\", \"c20\", \"c4\"]] # 0.69391\n",
    "\n",
    "concat_train_X = np.array(concat_train_X)"
   ]
  },
  {
   "cell_type": "markdown",
   "metadata": {},
   "source": [
    "単一モデルの場合"
   ]
  },
  {
   "cell_type": "code",
   "execution_count": 21,
   "metadata": {},
   "outputs": [],
   "source": [
    "model = Sequential()\n",
    "model.add(Dense(10, input_dim=concat_train_X.shape[1]))\n",
    "model.add(Activation('relu'))\n",
    "model.add(Dense(concat_train_X.shape[1]))\n",
    "\n",
    "model.compile(optimizer='adam',\n",
    "              loss='mean_squared_error',\n",
    "              metrics=['accuracy'])"
   ]
  },
  {
   "cell_type": "code",
   "execution_count": 19,
   "metadata": {},
   "outputs": [],
   "source": [
    "# import cv2\n",
    "# from keras.utils.visualize_util import plot\n",
    "# plot(model, to_file=\"model.png\", show_shapes=True)\n",
    "# plt.figure(figsize=(15, 15))\n",
    "# plt.imshow(cv2.imread(\"./model.png\"))"
   ]
  },
  {
   "cell_type": "code",
   "execution_count": 7,
   "metadata": {
    "scrolled": true
   },
   "outputs": [
    {
     "name": "stdout",
     "output_type": "stream",
     "text": [
      "Epoch 1/5\n",
      "881500/881500 [==============================] - 2s - loss: 7.1980e-04 - acc: 0.9959     - ETA: 0s - loss: 7.4357e-04 -  - ETA: 0s - loss: 7.2926e-04 - acc:  - ETA: 0s - loss: 7.2448e-04 \n",
      "Epoch 2/5\n",
      "881500/881500 [==============================] - 2s - loss: 4.6024e-04 - acc: 0.9972     - ETA: 0s - loss: 4.71 - ETA: 0s -\n",
      "Epoch 3/5\n",
      "881500/881500 [==============================] - 2s - loss: 3.0340e-04 - acc: 0.9979     - ETA: 1s - loss: 3.9252 - ETA: 1s - loss: 3.8191e-04 - acc: 0.997 - ETA: 1s - loss: 3.8074e-04 - acc: 0.9 - ETA:  - ETA: 0s - lo\n",
      "Epoch 4/5\n",
      "881500/881500 [==============================] - 2s - loss: 2.0606e-04 - acc: 0.9984     \n",
      "Epoch 5/5\n",
      "881500/881500 [==============================] - 2s - loss: 1.3907e-04 - acc: 0.9987     - ETA: 0\n"
     ]
    },
    {
     "data": {
      "text/plain": [
       "<keras.callbacks.History at 0x7fc691ea4978>"
      ]
     },
     "execution_count": 7,
     "metadata": {},
     "output_type": "execute_result"
    }
   ],
   "source": [
    "model.fit(concat_train_X, concat_train_X, nb_epoch=5, batch_size=2048)"
   ]
  },
  {
   "cell_type": "code",
   "execution_count": 8,
   "metadata": {},
   "outputs": [],
   "source": [
    "# with a Sequential model\n",
    "get_2nd_layer_output = K.function([model.layers[0].input],\n",
    "                                  [model.layers[2].output])\n",
    "layer_output = get_2nd_layer_output([concat_train_X])[0]\n",
    "\n",
    "train_feature = layer_output[:520000, :]\n",
    "test_feature = layer_output[520000:, :]\n",
    "\n",
    "train_y = np.array(train_y)\n",
    "bias = np.ones(520000)\n",
    "train_feature = np.c_[train_feature, bias]\n",
    "bias = np.ones(361500)\n",
    "test_feature = np.c_[test_feature, bias]\n",
    "\n",
    "w = np.linalg.inv(train_feature.T.dot(train_feature)).dot(train_feature.T).dot(train_y)\n",
    "sample_submission[1] = w.dot(test_feature.T)"
   ]
  },
  {
   "cell_type": "markdown",
   "metadata": {},
   "source": [
    "アンサンブルする場合"
   ]
  },
  {
   "cell_type": "code",
   "execution_count": 4,
   "metadata": {
    "scrolled": true
   },
   "outputs": [
    {
     "name": "stdout",
     "output_type": "stream",
     "text": [
      "Epoch 1/10\n",
      "881500/881500 [==============================] - 3s - loss: 0.6592 - acc: 0.5916     - ETA: 0s - loss: 0.7245 - acc: 0.558 - ETA: 0s - \n",
      "Epoch 2/10\n",
      "881500/881500 [==============================] - 2s - loss: 0.0823 - acc: 0.8831     \n",
      "Epoch 3/10\n",
      "881500/881500 [==============================] - 2s - loss: 0.0283 - acc: 0.9354     - ETA: 0s - loss: 0.0288 - a\n",
      "Epoch 4/10\n",
      "881500/881500 [==============================] - 2s - loss: 0.0131 - acc: 0.9624     - ETA: 0s - loss: 0.0133 - acc: \n",
      "Epoch 5/10\n",
      "881500/881500 [==============================] - 2s - loss: 0.0068 - acc: 0.9763     \n",
      "Epoch 6/10\n",
      "881500/881500 [==============================] - 2s - loss: 0.0037 - acc: 0.9840     \n",
      "Epoch 7/10\n",
      "881500/881500 [==============================] - 2s - loss: 0.0022 - acc: 0.9888     \n",
      "Epoch 8/10\n",
      "881500/881500 [==============================] - 2s - loss: 0.0014 - acc: 0.9921     \n",
      "Epoch 9/10\n",
      "881500/881500 [==============================] - 2s - loss: 8.8527e-04 - acc: 0.9947     \n",
      "Epoch 10/10\n",
      "881500/881500 [==============================] - 2s - loss: 5.8485e-04 - acc: 0.9966     - ETA: 0s - lo\n",
      "Epoch 1/10\n",
      "881500/881500 [==============================] - 2s - loss: 0.5667 - acc: 0.6354     - ETA: 0s - loss: 0.5797 - acc:\n",
      "Epoch 2/10\n",
      "881500/881500 [==============================] - 2s - loss: 0.0687 - acc: 0.8872     - ETA:\n",
      "Epoch 3/10\n",
      "881500/881500 [==============================] - 2s - loss: 0.0296 - acc: 0.9259     - ETA: 0s - loss: 0.0299 - acc:\n",
      "Epoch 4/10\n",
      "881500/881500 [==============================] - 2s - loss: 0.0154 - acc: 0.9449     - ETA: 0s - loss: 0\n",
      "Epoch 5/10\n",
      "881500/881500 [==============================] - 2s - loss: 0.0079 - acc: 0.9609     - ETA: 0s - loss: 0.008\n",
      "Epoch 6/10\n",
      "881500/881500 [==============================] - 2s - loss: 0.0028 - acc: 0.9775     \n",
      "Epoch 7/10\n",
      "881500/881500 [==============================] - 2s - loss: 2.8824e-04 - acc: 0.9937     \n",
      "Epoch 8/10\n",
      "881500/881500 [==============================] - 2s - loss: 6.8122e-05 - acc: 0.9978     - ETA: 0s - l\n",
      "Epoch 9/10\n",
      "881500/881500 [==============================] - 2s - loss: 2.6173e-05 - acc: 0.9990     - - ETA: 1s - loss: 3.4398e-0\n",
      "Epoch 10/10\n",
      "881500/881500 [==============================] - 2s - loss: 1.1892e-05 - acc: 0.9995     \n",
      "Epoch 1/10\n",
      "881500/881500 [==============================] - 2s - loss: 0.6466 - acc: 0.5877     - ETA: 1s - l - ETA: 0s - loss: 0.6885 - acc: 0. - ETA: 0s - loss: 0.677\n",
      "Epoch 2/10\n",
      "881500/881500 [==============================] - 2s - loss: 0.1078 - acc: 0.8782     \n",
      "Epoch 3/10\n",
      "881500/881500 [==============================] - 2s - loss: 0.0516 - acc: 0.9189     \n",
      "Epoch 4/10\n",
      "881500/881500 [==============================] - 2s - loss: 0.0335 - acc: 0.9358     \n",
      "Epoch 5/10\n",
      "881500/881500 [==============================] - 2s - loss: 0.0232 - acc: 0.9449     \n",
      "Epoch 6/10\n",
      "881500/881500 [==============================] - 2s - loss: 0.0149 - acc: 0.9510     \n",
      "Epoch 7/10\n",
      "881500/881500 [==============================] - 2s - loss: 0.0098 - acc: 0.9565     - ETA: 0s - loss:\n",
      "Epoch 8/10\n",
      "881500/881500 [==============================] - 2s - loss: 0.0058 - acc: 0.9660     - ETA: 0s - loss: 0.0059 \n",
      "Epoch 9/10\n",
      "881500/881500 [==============================] - 2s - loss: 0.0031 - acc: 0.9771     \n",
      "Epoch 10/10\n",
      "881500/881500 [==============================] - 2s - loss: 0.0015 - acc: 0.9860     - ETA: 0s - loss: 0.0015 - acc: 0.986\n",
      "Epoch 1/10\n",
      "881500/881500 [==============================] - 3s - loss: 0.6260 - acc: 0.4892     \n",
      "Epoch 2/10\n",
      "881500/881500 [==============================] - 2s - loss: 0.0997 - acc: 0.8717     - ETA: 0s -\n",
      "Epoch 3/10\n",
      "881500/881500 [==============================] - 2s - loss: 0.0440 - acc: 0.9194     \n",
      "Epoch 4/10\n",
      "881500/881500 [==============================] - 2s - loss: 0.0261 - acc: 0.9390     - ETA: 0s - loss:\n",
      "Epoch 5/10\n",
      "881500/881500 [==============================] - 2s - loss: 0.0167 - acc: 0.9547     - ETA: 2s - loss: 0.0 - ETA: 2s - los - ETA: 1s  - ETA: 1s - loss: 0.0180 - acc: 0.951 - ETA: 1s - loss: 0.0180 - acc: 0.951 - ETA: 1s  - ETA: 0s - loss: 0.0176 - acc: 0.95 - ETA: 0s - loss: 0.\n",
      "Epoch 6/10\n",
      "881500/881500 [==============================] - 2s - loss: 0.0114 - acc: 0.9658     \n",
      "Epoch 7/10\n",
      "881500/881500 [==============================] - 2s - loss: 0.0082 - acc: 0.9729     \n",
      "Epoch 8/10\n",
      "881500/881500 [==============================] - 2s - loss: 0.0059 - acc: 0.9784     \n",
      "Epoch 9/10\n",
      "881500/881500 [==============================] - 2s - loss: 0.0042 - acc: 0.9830     - ETA: 1s - - ETA: 0s - ETA: 0s - loss: 0.0043 - acc: 0.982 - ETA: 0s - loss: 0.0043 - acc: 0.9 - ETA: 0s - loss: 0.0043 -\n",
      "Epoch 10/10\n",
      "881500/881500 [==============================] - 2s - loss: 0.0030 - acc: 0.9867     \n",
      "Epoch 1/10\n",
      "881500/881500 [==============================] - 3s - loss: 0.5290 - acc: 0.6421     \n",
      "Epoch 2/10\n",
      "881500/881500 [==============================] - 2s - loss: 0.0553 - acc: 0.8934     - ETA: 0s - loss: 0.0564 - \n",
      "Epoch 3/10\n",
      "881500/881500 [==============================] - 2s - loss: 0.0244 - acc: 0.9262     \n",
      "Epoch 4/10\n",
      "881500/881500 [==============================] - 2s - loss: 0.0145 - acc: 0.9388     \n",
      "Epoch 5/10\n",
      "881500/881500 [==============================] - 2s - loss: 0.0075 - acc: 0.9555     \n",
      "Epoch 6/10\n",
      "881500/881500 [==============================] - 2s - loss: 0.0042 - acc: 0.9710     - ETA: 1s - loss: 0.0049 - acc: 0.967 - ETA: 1s - loss: 0.0049 \n",
      "Epoch 7/10\n",
      "881500/881500 [==============================] - 2s - loss: 0.0023 - acc: 0.9815     \n",
      "Epoch 8/10\n",
      "881500/881500 [==============================] - 2s - loss: 8.2794e-04 - acc: 0.9910     \n",
      "Epoch 9/10\n",
      "881500/881500 [==============================] - 2s - loss: 2.5842e-04 - acc: 0.9960     - ETA: 0s - loss: 2.\n",
      "Epoch 10/10\n",
      "881500/881500 [==============================] - 2s - loss: 1.0882e-04 - acc: 0.9977     \n",
      "Epoch 1/10\n",
      "881500/881500 [==============================] - 3s - loss: 0.3897 - acc: 0.6826     \n",
      "Epoch 2/10\n",
      "881500/881500 [==============================] - 2s - loss: 0.0611 - acc: 0.9012     \n",
      "Epoch 3/10\n",
      "881500/881500 [==============================] - 2s - loss: 0.0320 - acc: 0.9348     - ETA: 0s - loss: 0.0320 - acc: 0.934 - ETA: 0s - loss: 0.0320 - acc: 0.93\n",
      "Epoch 4/10\n",
      "881500/881500 [==============================] - 2s - loss: 0.0208 - acc: 0.9422     - ETA: 0s - loss: 0.0211\n",
      "Epoch 5/10\n",
      "881500/881500 [==============================] - 2s - loss: 0.0128 - acc: 0.9517     \n",
      "Epoch 6/10\n",
      "881500/881500 [==============================] - 2s - loss: 0.0076 - acc: 0.9624     \n",
      "Epoch 7/10\n",
      "881500/881500 [==============================] - 2s - loss: 0.0048 - acc: 0.9722     - ETA: 1s - loss: 0.0052 - acc: 0 - ETA: 1s - los - ETA: 0s -  - ETA: 0s - loss: 0.0050 - - ETA: 0\n",
      "Epoch 8/10\n",
      "881500/881500 [==============================] - 2s - loss: 0.0028 - acc: 0.9820     \n",
      "Epoch 9/10\n",
      "881500/881500 [==============================] - 2s - loss: 0.0014 - acc: 0.9894     - ETA\n",
      "Epoch 10/10\n",
      "881500/881500 [==============================] - 2s - loss: 7.1817e-04 - acc: 0.9938     \n",
      "Epoch 1/10\n",
      "881500/881500 [==============================] - 2s - loss: 0.4486 - acc: 0.6650     \n",
      "Epoch 2/10\n",
      "881500/881500 [==============================] - 2s - loss: 0.0439 - acc: 0.9141     \n",
      "Epoch 3/10\n",
      "881500/881500 [==============================] - 2s - loss: 0.0186 - acc: 0.9428     - ETA: \n",
      "Epoch 4/10\n",
      "881500/881500 [==============================] - 2s - loss: 0.0095 - acc: 0.9574     - ETA: 1s - loss: 0.0113 - acc: 0 - - ETA: 0s - loss: 0.0\n",
      "Epoch 5/10\n",
      "881500/881500 [==============================] - 2s - loss: 0.0043 - acc: 0.9788     - ETA: 0s - loss: 0.0043 - acc: 0.9\n",
      "Epoch 6/10\n",
      "881500/881500 [==============================] - 2s - loss: 0.0024 - acc: 0.9873     \n",
      "Epoch 7/10\n",
      "881500/881500 [==============================] - 2s - loss: 0.0015 - acc: 0.9908     \n",
      "Epoch 8/10\n",
      "881500/881500 [==============================] - 2s - loss: 9.5463e-04 - acc: 0.9932     - ETA: 0s - loss: 9.593 - ETA: 0s - loss: 9.5283e-04 - acc: 0.\n",
      "Epoch 9/10\n",
      "881500/881500 [==============================] - 2s - loss: 6.0809e-04 - acc: 0.9950     \n",
      "Epoch 10/10\n",
      "881500/881500 [==============================] - 2s - loss: 3.8598e-04 - acc: 0.9965     \n",
      "Epoch 1/10\n"
     ]
    },
    {
     "name": "stdout",
     "output_type": "stream",
     "text": [
      "881500/881500 [==============================] - 2s - loss: 0.6716 - acc: 0.5613     - ETA: 0s - loss: 0.6758 - acc: 0.55\n",
      "Epoch 2/10\n",
      "881500/881500 [==============================] - 2s - loss: 0.0659 - acc: 0.8953     - \n",
      "Epoch 3/10\n",
      "881500/881500 [==============================] - 2s - loss: 0.0249 - acc: 0.9332     - ETA: 0s - loss: 0.0250 - acc: 0.933 - ETA: 0s - loss: 0.0249 - acc: 0.93\n",
      "Epoch 4/10\n",
      "881500/881500 [==============================] - 2s - loss: 0.0139 - acc: 0.9463     - ETA: 1s - loss: 0.0154  - ETA: 0s - loss: 0.015 - ETA: 0s - loss: 0.0141 - ac\n",
      "Epoch 5/10\n",
      "881500/881500 [==============================] - 2s - loss: 0.0063 - acc: 0.9640     - ETA: 1s - loss: 0.0082 - - ETA: 0s  - ETA: 0s -  - ETA: 0s - loss: 0.0065 - acc: 0 - ETA: 0s - loss: 0.006\n",
      "Epoch 6/10\n",
      "881500/881500 [==============================] - 2s - loss: 0.0020 - acc: 0.9810     \n",
      "Epoch 7/10\n",
      "881500/881500 [==============================] - 2s - loss: 5.2452e-04 - acc: 0.9891     \n",
      "Epoch 8/10\n",
      "881500/881500 [==============================] - 2s - loss: 1.7658e-04 - acc: 0.9933     - E - ETA: 0s - loss: 1.9427e-04\n",
      "Epoch 9/10\n",
      "881500/881500 [==============================] - 2s - loss: 8.4119e-05 - acc: 0.9953     \n",
      "Epoch 10/10\n",
      "881500/881500 [==============================] - 2s - loss: 4.5871e-05 - acc: 0.9965     \n",
      "Epoch 1/10\n",
      "881500/881500 [==============================] - 2s - loss: 0.5460 - acc: 0.5242     - ETA: 0s - loss: 0.6407 - acc: 0.4\n",
      "Epoch 2/10\n",
      "881500/881500 [==============================] - 2s - loss: 0.0685 - acc: 0.8949     \n",
      "Epoch 3/10\n",
      "881500/881500 [==============================] - 2s - loss: 0.0331 - acc: 0.9446     - ETA: 0s - loss: 0\n",
      "Epoch 4/10\n",
      "881500/881500 [==============================] - 2s - loss: 0.0200 - acc: 0.9599     \n",
      "Epoch 5/10\n",
      "881500/881500 [==============================] - 2s - loss: 0.0126 - acc: 0.9733     - ETA: 2s - \n",
      "Epoch 6/10\n",
      "881500/881500 [==============================] - 2s - loss: 0.0078 - acc: 0.9822     \n",
      "Epoch 7/10\n",
      "881500/881500 [==============================] - ETA: 0s - loss: 0.0046 - acc: 0.9878- ETA: 0s - loss: 0.0046 - acc: 0. - 2s - loss: 0.0046 - acc: 0.9878     \n",
      "Epoch 8/10\n",
      "881500/881500 [==============================] - 2s - loss: 0.0026 - acc: 0.9916     - ETA: 2s  - ETA: 0s - loss: 0.0027 \n",
      "Epoch 9/10\n",
      "881500/881500 [==============================] - 2s - loss: 0.0015 - acc: 0.9942     \n",
      "Epoch 10/10\n",
      "881500/881500 [==============================] - 2s - loss: 8.5716e-04 - acc: 0.9962     ETA: 1s - loss: - ETA: 1s -  - ETA: 0s - loss: 9.0784e-04 - acc: 0 - ETA: 0s - ETA: 0s - loss: 8.6320e-04 - a\n",
      "Epoch 1/10\n",
      "881500/881500 [==============================] - ETA: 0s - loss: 0.3568 - acc: 0.7489- ETA: 0s - loss:  - ETA: 0s - loss: 0.3738 - 2s - loss: 0.3558 - acc: 0.7493     \n",
      "Epoch 2/10\n",
      "881500/881500 [==============================] - 2s - loss: 0.0493 - acc: 0.9116     \n",
      "Epoch 3/10\n",
      "881500/881500 [==============================] - 2s - loss: 0.0181 - acc: 0.9536     - ETA: 2s - loss: 0.0 - ETA: 0s - loss: 0.0188 - acc:  - ETA: 0s - loss: 0.\n",
      "Epoch 4/10\n",
      "881500/881500 [==============================] - 2s - loss: 0.0075 - acc: 0.9734     \n",
      "Epoch 5/10\n",
      "881500/881500 [==============================] - 2s - loss: 0.0031 - acc: 0.9838     \n",
      "Epoch 6/10\n",
      "881500/881500 [==============================] - 2s - loss: 0.0013 - acc: 0.9924     - ETA: 1s - loss: 0.0015 - acc - ET\n",
      "Epoch 7/10\n",
      "881500/881500 [==============================] - 2s - loss: 4.9216e-04 - acc: 0.9964     \n",
      "Epoch 8/10\n",
      "881500/881500 [==============================] - 2s - loss: 2.1022e-04 - acc: 0.9980     - ETA: 2s - loss: 2.9674e-04 - acc: 0.9 - ETA: 2s - loss\n",
      "Epoch 9/10\n",
      "881500/881500 [==============================] - 2s - loss: 9.1983e-05 - acc: 0.9989     - ETA: 0s - l\n",
      "Epoch 10/10\n",
      "881500/881500 [==============================] - 2s - loss: 4.3374e-05 - acc: 0.9994     - ETA: 2s - loss: 4. - ETA: 1s - loss: 4.7845e-05 - acc: 0.99 - ETA: 1\n"
     ]
    }
   ],
   "source": [
    "pred_list = []\n",
    "for i in range(10):\n",
    "    model = Sequential()\n",
    "    model.add(Dense(10, input_dim=concat_train_X.shape[1]))\n",
    "    model.add(Activation('relu'))\n",
    "    model.add(Dense(concat_train_X.shape[1]))\n",
    "\n",
    "    model.compile(optimizer='adam',\n",
    "                  loss='mean_squared_error',\n",
    "                  metrics=['accuracy'])\n",
    "    model.fit(concat_train_X, concat_train_X, nb_epoch=10, batch_size=2048)\n",
    "    \n",
    "    # with a Sequential model\n",
    "    get_2nd_layer_output = K.function([model.layers[0].input],\n",
    "                                      [model.layers[2].output])\n",
    "    layer_output = get_2nd_layer_output([concat_train_X])[0]\n",
    "\n",
    "    train_feature = layer_output[:520000, :]\n",
    "    test_feature = layer_output[520000:, :]\n",
    "\n",
    "    train_y = np.array(train_y)\n",
    "    bias = np.ones(520000)\n",
    "    train_feature = np.c_[train_feature, bias]\n",
    "    bias = np.ones(361500)\n",
    "    test_feature = np.c_[test_feature, bias]\n",
    "    \n",
    "    w = np.linalg.inv(train_feature.T.dot(train_feature)).dot(train_feature.T).dot(train_y)\n",
    "    pred = w.dot(test_feature.T)\n",
    "    pred_list.append(pred)"
   ]
  },
  {
   "cell_type": "code",
   "execution_count": 5,
   "metadata": {},
   "outputs": [],
   "source": [
    "sample_submission[1] = np.average(pred_list, 0)"
   ]
  },
  {
   "cell_type": "markdown",
   "metadata": {},
   "source": [
    "線形回帰"
   ]
  },
  {
   "cell_type": "code",
   "execution_count": 139,
   "metadata": {},
   "outputs": [
    {
     "name": "stderr",
     "output_type": "stream",
     "text": [
      "/usr/local/lib/python3.4/dist-packages/ipykernel_launcher.py:1: SettingWithCopyWarning: \n",
      "A value is trying to be set on a copy of a slice from a DataFrame\n",
      "\n",
      "See the caveats in the documentation: http://pandas.pydata.org/pandas-docs/stable/indexing.html#indexing-view-versus-copy\n",
      "  \"\"\"Entry point for launching an IPython kernel.\n"
     ]
    }
   ],
   "source": [
    "#sample_submission[1][sample_submission[1] < 0.1] = 0.1"
   ]
  },
  {
   "cell_type": "markdown",
   "metadata": {},
   "source": [
    "## 結果確認"
   ]
  },
  {
   "cell_type": "code",
   "execution_count": 6,
   "metadata": {},
   "outputs": [],
   "source": [
    "sample_submission.to_csv(\"result2.csv\", index=0)"
   ]
  },
  {
   "cell_type": "code",
   "execution_count": 7,
   "metadata": {},
   "outputs": [
    {
     "data": {
      "text/plain": [
       "0.50000036663076919"
      ]
     },
     "execution_count": 7,
     "metadata": {},
     "output_type": "execute_result"
    }
   ],
   "source": [
    "sample_submission.iloc[:, 1].mean()"
   ]
  },
  {
   "cell_type": "code",
   "execution_count": 8,
   "metadata": {},
   "outputs": [
    {
     "data": {
      "text/plain": [
       "0.6652068591276985"
      ]
     },
     "execution_count": 8,
     "metadata": {},
     "output_type": "execute_result"
    }
   ],
   "source": [
    "sample_submission[1].max()"
   ]
  },
  {
   "cell_type": "code",
   "execution_count": 9,
   "metadata": {},
   "outputs": [
    {
     "data": {
      "text/plain": [
       "0.33147577770448383"
      ]
     },
     "execution_count": 9,
     "metadata": {},
     "output_type": "execute_result"
    }
   ],
   "source": [
    "sample_submission[1].min()"
   ]
  },
  {
   "cell_type": "code",
   "execution_count": 10,
   "metadata": {},
   "outputs": [
    {
     "data": {
      "image/png": "[encoded data removed]",
      "text/plain": [
       "<matplotlib.figure.Figure at 0x7f06bb815b70>"
      ]
     },
     "metadata": {},
     "output_type": "display_data"
    }
   ],
   "source": [
    "plt.style.use(\"ggplot\")\n",
    "plt.hist(sample_submission[1], bins=50)\n",
    "plt.show()"
   ]
  },
  {
   "cell_type": "markdown",
   "metadata": {},
   "source": [
    "- 4つの特徴量でアンサンブルすると精度あがる\n",
    "- 線形回帰で特徴数が10とかでも、もとの4つの特徴量がよければ精度がよい\n"
   ]
  }
 ],
 "metadata": {
  "kernelspec": {
   "display_name": "Python 3",
   "language": "python",
   "name": "python3"
  },
  "language_info": {
   "codemirror_mode": {
    "name": "ipython",
    "version": 3
   },
   "file_extension": ".py",
   "mimetype": "text/x-python",
   "name": "python",
   "nbconvert_exporter": "python",
   "pygments_lexer": "ipython3",
   "version": "3.4.3"
  }
 },
 "nbformat": 4,
 "nbformat_minor": 2
}
