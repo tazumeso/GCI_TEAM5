{
 "cells": [
  {
   "cell_type": "code",
   "execution_count": 1,
   "metadata": {},
   "outputs": [
    {
     "name": "stderr",
     "output_type": "stream",
     "text": [
      "Using TensorFlow backend.\n"
     ]
    }
   ],
   "source": [
    "%matplotlib inline\n",
    "import matplotlib.pyplot as plt\n",
    "import numpy as np\n",
    "import pandas as pd\n",
    "from sklearn.linear_model import LogisticRegression\n",
    "\n",
    "from keras import backend as K\n",
    "from keras.models import Sequential\n",
    "from keras.layers import Dense, Activation\n",
    "from keras.models import Model, load_model\n",
    "from keras.layers import Input, Dense\n",
    "from keras import regularizers\n",
    "\n",
    "import tensorflow as tf\n",
    "import os \n",
    "os.environ['CUDA_VISIBLE_DEVICES'] = \"3\"\n",
    "# config = tf.ConfigProto(\n",
    "#     gpu_options=tf.GPUOptions(\n",
    "#         per_process_gpu_memory_fraction=0.1 # 最大値の50%まで\n",
    "#     )\n",
    "# )\n",
    "config = tf.ConfigProto(\n",
    "    gpu_options=tf.GPUOptions(\n",
    "        allow_growth=True # True->必要になったら確保, False->全部\n",
    "    )\n",
    ")\n",
    "sess = tf.Session(config=config)\n",
    "\n",
    "\n",
    "\n",
    "train_data = pd.read_csv(\"./data/train.csv\")\n",
    "test_data = pd.read_csv(\"./data/test.csv\")\n",
    "id_period_mapping = pd.read_csv(\"./data/id_period_mapping.csv\")\n",
    "test_data[\"period\"] = id_period_mapping[\"period\"]\n",
    "sample_submission = pd.read_csv(\"./data/sample_submit.csv\", header=None)\n",
    "test_data.index = test_data[\"data_id\"]\n",
    "\n",
    "mask = (train_data[\"period\"] == \"train9\") | (train_data[\"period\"] == \"train6\") | (train_data[\"period\"] == \"train4\") | (train_data[\"period\"] == \"train7\") | \\\n",
    "(train_data[\"period\"] == \"train5\") | (train_data[\"period\"] == \"train3\") | (train_data[\"period\"] == \"train1\") | (train_data[\"period\"] == \"train14\") | \\\n",
    "(train_data[\"period\"] == \"train13\") | (train_data[\"period\"] == \"train11\") | (train_data[\"period\"] == \"train10\") | (train_data[\"period\"] == \"train2\") | \\\n",
    "(train_data[\"period\"] == \"train12\") | (train_data[\"period\"] == \"train10\") | (train_data[\"period\"] == \"train14\")\n",
    "train_data = train_data[mask]\n",
    "\n",
    "train_y = train_data.iloc[:, -1]\n",
    "\n",
    "l = [1, 2, 3, 4, 5, 6, 7, 9, 10, 11, 12, 13, 14]\n",
    "dfx = pd.DataFrame()\n",
    "for i in l:\n",
    "    dfi = train_data[train_data.period == \"train{}\".format(i)].iloc[:, 2:90]\n",
    "    dfx = dfx.append((dfi - dfi.mean()) / dfi.std())\n",
    "train_X = dfx\n",
    "dfx = pd.DataFrame()\n",
    "for i in range(1, 11):\n",
    "    dfi = test_data[test_data.period == \"test{}\".format(i)].iloc[:, 1:-1]\n",
    "    dfx = dfx.append((dfi - dfi.mean()) / dfi.std())\n",
    "test_X = dfx\n",
    "test_X = test_X.loc[test_data.index]"
   ]
  },
  {
   "cell_type": "code",
   "execution_count": 2,
   "metadata": {},
   "outputs": [],
   "source": [
    "concat_train_X = pd.concat([train_X, test_X])\n",
    "\n",
    "concat_train_X = concat_train_X[[\"c12\", \"c80\", \"c48\", \"c81\"]] # 0.69218 → 0.69208\n",
    "\n",
    "#concat_train_X = concat_train_X[[\"c12\", \"c80\", \"c48\", \"c81\",\n",
    "#                                 \"c68\", \"c56\", \"c27\", \"c67\", \"c20\", \"c4\"]] # 0.69391\n",
    "\n",
    "#concat_train_X = concat_train_X[[\"c12\", \"c80\", \"c48\", \"c81\",\n",
    "#                                 \"c68\", \"c56\", \"c27\", \"c67\"]]  0.69316\t\n",
    "\n",
    "concat_train_X = np.array(concat_train_X)"
   ]
  },
  {
   "cell_type": "code",
   "execution_count": 3,
   "metadata": {},
   "outputs": [],
   "source": [
    "# import cv2\n",
    "# from keras.utils.visualize_util import plot\n",
    "# plot(model, to_file=\"model.png\", show_shapes=True)\n",
    "# plt.figure(figsize=(15, 15))\n",
    "# plt.imshow(cv2.imread(\"./model.png\"))"
   ]
  },
  {
   "cell_type": "markdown",
   "metadata": {},
   "source": [
    "アンサンブルする場合"
   ]
  },
  {
   "cell_type": "code",
   "execution_count": 4,
   "metadata": {
    "scrolled": true
   },
   "outputs": [
    {
     "name": "stdout",
     "output_type": "stream",
     "text": [
      "Epoch 1/10\n",
      "881500/881500 [==============================] - 2s - loss: 0.1350 - acc: 0.9044     \n",
      "Epoch 2/10\n",
      "881500/881500 [==============================] - 1s - loss: 0.0031 - acc: 0.9781     \n",
      "Epoch 3/10\n",
      "881500/881500 [==============================] - 1s - loss: 0.0014 - acc: 0.9823     \n",
      "Epoch 4/10\n",
      "881500/881500 [==============================] - 1s - loss: 7.6458e-04 - acc: 0.9853     \n",
      "Epoch 5/10\n",
      "881500/881500 [==============================] - 1s - loss: 5.1499e-04 - acc: 0.9875     - ETA: 1s - loss: 5.6768e-04 - ETA: 0s - loss: 5.5324e-04 - acc\n",
      "Epoch 6/10\n",
      "881500/881500 [==============================] - 1s - loss: 3.8411e-04 - acc: 0.9891     - ETA: 0s - loss:\n",
      "Epoch 7/10\n",
      "881500/881500 [==============================] - 1s - loss: 3.0242e-04 - acc: 0.9904     \n",
      "Epoch 8/10\n",
      "881500/881500 [==============================] - 1s - loss: 2.4342e-04 - acc: 0.9914     \n",
      "Epoch 9/10\n",
      "881500/881500 [==============================] - 1s - loss: 1.9708e-04 - acc: 0.9923     \n",
      "Epoch 10/10\n",
      "881500/881500 [==============================] - 1s - loss: 1.5955e-04 - acc: 0.9931     - ETA: 0 - ETA: 0s - loss: 1.5994e-04 - acc: 0.9\n",
      "Epoch 1/10\n",
      "881500/881500 [==============================] - 1s - loss: 0.1557 - acc: 0.9013     - - ETA:\n",
      "Epoch 2/10\n",
      "881500/881500 [==============================] - 1s - loss: 0.0034 - acc: 0.9782     \n",
      "Epoch 3/10\n",
      "881500/881500 [==============================] - 1s - loss: 0.0014 - acc: 0.9822     \n",
      "Epoch 4/10\n",
      "881500/881500 [==============================] - 1s - loss: 7.7579e-04 - acc: 0.9856     - ETA: 0s - loss: 7.989\n",
      "Epoch 5/10\n",
      "881500/881500 [==============================] - 1s - loss: 5.3571e-04 - acc: 0.9878     - ETA\n",
      "Epoch 6/10\n",
      "881500/881500 [==============================] - 1s - loss: 4.0582e-04 - acc: 0.9894     \n",
      "Epoch 7/10\n",
      "881500/881500 [==============================] - 1s - loss: 3.2245e-04 - acc: 0.9905     \n",
      "Epoch 8/10\n",
      "881500/881500 [==============================] - 1s - loss: 2.6257e-04 - acc: 0.9914     \n",
      "Epoch 9/10\n",
      "881500/881500 [==============================] - 1s - loss: 2.1686e-04 - acc: 0.9922     \n",
      "Epoch 10/10\n",
      "881500/881500 [==============================] - 1s - loss: 1.8097e-04 - acc: 0.9930      - ETA:\n",
      "Epoch 1/10\n",
      "881500/881500 [==============================] - 1s - loss: 0.1277 - acc: 0.9015     \n",
      "Epoch 2/10\n",
      "881500/881500 [==============================] - 1s - loss: 0.0027 - acc: 0.9799     \n",
      "Epoch 3/10\n",
      "881500/881500 [==============================] - 1s - loss: 0.0011 - acc: 0.9829     - ETA: 0s - loss: 0.001\n",
      "Epoch 4/10\n",
      "881500/881500 [==============================] - 1s - loss: 6.3100e-04 - acc: 0.9860     \n",
      "Epoch 5/10\n",
      "881500/881500 [==============================] - 1s - loss: 4.5076e-04 - acc: 0.9885     \n",
      "Epoch 6/10\n",
      "881500/881500 [==============================] - 1s - loss: 3.4380e-04 - acc: 0.9902     \n",
      "Epoch 7/10\n",
      "881500/881500 [==============================] - 1s - loss: 2.7046e-04 - acc: 0.9914     - ETA:\n",
      "Epoch 8/10\n",
      "881500/881500 [==============================] - ETA: 0s - loss: 2.1777e-04 - acc: 0.992 - 1s - loss: 2.1776e-04 - acc: 0.9924     \n",
      "Epoch 9/10\n",
      "881500/881500 [==============================] - 1s - loss: 1.7847e-04 - acc: 0.9932     - ETA: 1s - loss: 1.9336e-04 - ac - ETA\n",
      "Epoch 10/10\n",
      "881500/881500 [==============================] - 1s - loss: 1.4806e-04 - acc: 0.9938     \n",
      "Epoch 1/10\n",
      "881500/881500 [==============================] - 1s - loss: 0.1915 - acc: 0.8501     \n",
      "Epoch 2/10\n",
      "881500/881500 [==============================] - 1s - loss: 0.0043 - acc: 0.9753     \n",
      "Epoch 3/10\n",
      "881500/881500 [==============================] - 1s - loss: 0.0018 - acc: 0.9811     \n",
      "Epoch 4/10\n",
      "881500/881500 [==============================] - 1s - loss: 0.0010 - acc: 0.9832     - ETA: 2s\n",
      "Epoch 5/10\n",
      "881500/881500 [==============================] - 1s - loss: 7.0751e-04 - acc: 0.9854     \n",
      "Epoch 6/10\n",
      "881500/881500 [==============================] - 1s - loss: 5.2316e-04 - acc: 0.9873     - ETA: 0\n",
      "Epoch 7/10\n",
      "881500/881500 [==============================] - 1s - loss: 4.1163e-04 - acc: 0.9890     \n",
      "Epoch 8/10\n",
      "881500/881500 [==============================] - 1s - loss: 3.3712e-04 - acc: 0.9902     - ETA: 0s - loss: 3.3987e-04 -\n",
      "Epoch 9/10\n",
      "881500/881500 [==============================] - 1s - loss: 2.8218e-04 - acc: 0.9913     \n",
      "Epoch 10/10\n",
      "881500/881500 [==============================] - 1s - loss: 2.3925e-04 - acc: 0.9922     \n",
      "Epoch 1/10\n",
      "881500/881500 [==============================] - 1s - loss: 0.1631 - acc: 0.9089     - ETA: 0s - loss: 0.1718 - acc: \n",
      "Epoch 2/10\n",
      "881500/881500 [==============================] - 1s - loss: 0.0030 - acc: 0.9840     \n",
      "Epoch 3/10\n",
      "881500/881500 [==============================] - 1s - loss: 0.0012 - acc: 0.9871     - ETA: 0s - loss: 0.0013 - acc: 0.986 - ETA: 0s - loss:\n",
      "Epoch 4/10\n",
      "881500/881500 [==============================] - 1s - loss: 6.9410e-04 - acc: 0.9889     \n",
      "Epoch 5/10\n",
      "881500/881500 [==============================] - 1s - loss: 4.7163e-04 - acc: 0.9903     \n",
      "Epoch 6/10\n",
      "881500/881500 [==============================] - 1s - loss: 3.4914e-04 - acc: 0.9915     - ETA: 0s - loss: 3.5214e-04 - acc:\n",
      "Epoch 7/10\n",
      "881500/881500 [==============================] - 1s - loss: 2.7154e-04 - acc: 0.9924     - ETA: 0s - loss: 2.7\n",
      "Epoch 8/10\n",
      "881500/881500 [==============================] - 1s - loss: 2.1841e-04 - acc: 0.9931     \n",
      "Epoch 9/10\n",
      "881500/881500 [==============================] - 1s - loss: 1.7950e-04 - acc: 0.9937     \n",
      "Epoch 10/10\n",
      "881500/881500 [==============================] - 1s - loss: 1.4901e-04 - acc: 0.9942     \n"
     ]
    }
   ],
   "source": [
    "pred_list = []\n",
    "for i in range(5):\n",
    "    model = Sequential()\n",
    "    model.add(Dense(100, input_dim=concat_train_X.shape[1]))\n",
    "    model.add(Activation('relu'))\n",
    "    model.add(Dense(concat_train_X.shape[1]))\n",
    "\n",
    "    model.compile(optimizer='adam',\n",
    "                  loss='mean_squared_error',\n",
    "                  metrics=['accuracy'])\n",
    "    model.fit(concat_train_X, concat_train_X, nb_epoch=10, batch_size=4096)\n",
    "    \n",
    "    # with a Sequential model\n",
    "    get_2nd_layer_output = K.function([model.layers[0].input],\n",
    "                                      [model.layers[2].output])\n",
    "    layer_output = get_2nd_layer_output([concat_train_X])[0]\n",
    "\n",
    "    train_feature = layer_output[:520000, :]\n",
    "    test_feature = layer_output[520000:, :]\n",
    "\n",
    "    train_y = np.array(train_y)\n",
    "    bias = np.ones(520000)\n",
    "    train_feature = np.c_[train_feature, bias]\n",
    "    bias = np.ones(361500)\n",
    "    test_feature = np.c_[test_feature, bias]\n",
    "    \n",
    "    w = np.linalg.inv(train_feature.T.dot(train_feature)).dot(train_feature.T).dot(train_y)\n",
    "    pred = w.dot(test_feature.T)\n",
    "    pred_list.append(pred)"
   ]
  },
  {
   "cell_type": "code",
   "execution_count": 5,
   "metadata": {},
   "outputs": [],
   "source": [
    "sample_submission[1] = np.average(pred_list, 0)"
   ]
  },
  {
   "cell_type": "markdown",
   "metadata": {},
   "source": [
    "線形回帰"
   ]
  },
  {
   "cell_type": "markdown",
   "metadata": {},
   "source": [
    "## 結果確認"
   ]
  },
  {
   "cell_type": "code",
   "execution_count": 6,
   "metadata": {},
   "outputs": [],
   "source": [
    "sample_submission.to_csv(\"result2.csv\", index=0)"
   ]
  },
  {
   "cell_type": "code",
   "execution_count": 7,
   "metadata": {},
   "outputs": [
    {
     "data": {
      "text/plain": [
       "0.50000203486461758"
      ]
     },
     "execution_count": 7,
     "metadata": {},
     "output_type": "execute_result"
    }
   ],
   "source": [
    "sample_submission.iloc[:, 1].mean()"
   ]
  },
  {
   "cell_type": "code",
   "execution_count": 8,
   "metadata": {},
   "outputs": [
    {
     "data": {
      "text/plain": [
       "0.66658382801978822"
      ]
     },
     "execution_count": 8,
     "metadata": {},
     "output_type": "execute_result"
    }
   ],
   "source": [
    "sample_submission[1].max()"
   ]
  },
  {
   "cell_type": "code",
   "execution_count": 9,
   "metadata": {},
   "outputs": [
    {
     "data": {
      "text/plain": [
       "0.32883757508534373"
      ]
     },
     "execution_count": 9,
     "metadata": {},
     "output_type": "execute_result"
    }
   ],
   "source": [
    "sample_submission[1].min()"
   ]
  },
  {
   "cell_type": "code",
   "execution_count": 10,
   "metadata": {},
   "outputs": [
    {
     "data": {
      "image/png": "[encoded data removed]",
      "text/plain": [
       "<matplotlib.figure.Figure at 0x7f0314cbbb70>"
      ]
     },
     "metadata": {},
     "output_type": "display_data"
    }
   ],
   "source": [
    "plt.style.use(\"ggplot\")\n",
    "plt.hist(sample_submission[1], bins=50)\n",
    "plt.show()"
   ]
  },
  {
   "cell_type": "markdown",
   "metadata": {},
   "source": [
    "- 4つの特徴量でアンサンブルすると精度あがる\n",
    "- 線形回帰で特徴数が10とかでも、もとの4つの特徴量がよければ精度がよい\n"
   ]
  },
  {
   "cell_type": "code",
   "execution_count": 1,
   "metadata": {},
   "outputs": [],
   "source": [
    "import numpy as np\n",
    "import matplotlib.pyplot as plt"
   ]
  },
  {
   "cell_type": "code",
   "execution_count": 3,
   "metadata": {},
   "outputs": [
    {
     "data": {
      "image/png": "[encoded data removed]",
      "text/plain": [
       "<matplotlib.figure.Figure at 0x7f2f36dbec88>"
      ]
     },
     "metadata": {},
     "output_type": "display_data"
    }
   ],
   "source": [
    "plt.plot(np.linspace(0, 1), np.linspace(0, 1))\n",
    "plt.show()"
   ]
  }
 ],
 "metadata": {
  "kernelspec": {
   "display_name": "Python 3",
   "language": "python",
   "name": "python3"
  },
  "language_info": {
   "codemirror_mode": {
    "name": "ipython",
    "version": 3
   },
   "file_extension": ".py",
   "mimetype": "text/x-python",
   "name": "python",
   "nbconvert_exporter": "python",
   "pygments_lexer": "ipython3",
   "version": "3.4.3"
  }
 },
 "nbformat": 4,
 "nbformat_minor": 2
}
