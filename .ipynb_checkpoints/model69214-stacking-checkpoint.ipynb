{
 "cells": [
  {
   "cell_type": "code",
   "execution_count": 1,
   "metadata": {
    "collapsed": true
   },
   "outputs": [],
   "source": [
    "%matplotlib inline\n",
    "import matplotlib.pyplot as plt\n",
    "import numpy as np\n",
    "import pandas as pd\n",
    "\n",
    "train_data = pd.read_csv(\"./data/train.csv\")\n",
    "test_data = pd.read_csv(\"./data/test.csv\")\n",
    "id_period_mapping = pd.read_csv(\"./data/id_period_mapping.csv\")\n",
    "test_data[\"period\"] = id_period_mapping[\"period\"]\n",
    "sample_submission = pd.read_csv(\"./data/sample_submit.csv\", header=None)\n",
    "\n",
    "test_data.index = test_data[\"data_id\"]\n",
    "\n",
    "mask = (train_data[\"period\"] == \"train9\") | (train_data[\"period\"] == \"train6\") | (train_data[\"period\"] == \"train4\") | (train_data[\"period\"] == \"train7\") | \\\n",
    "(train_data[\"period\"] == \"train5\") | (train_data[\"period\"] == \"train3\") | (train_data[\"period\"] == \"train1\") | (train_data[\"period\"] == \"train14\") | \\\n",
    "(train_data[\"period\"] == \"train13\") | (train_data[\"period\"] == \"train11\") | (train_data[\"period\"] == \"train10\") | (train_data[\"period\"] == \"train2\") | \\\n",
    "(train_data[\"period\"] == \"train12\") | (train_data[\"period\"] == \"train10\") | (train_data[\"period\"] == \"train14\")\n",
    "train_data = train_data[mask] \n",
    "\n",
    "\n",
    "train_y = train_data.iloc[:, -1]\n",
    "\n",
    "l = [1, 2, 3, 4, 5, 6, 7, 9, 10, 11, 12, 13, 14]\n",
    "dfx = pd.DataFrame()\n",
    "#for i in range(1, 15):\n",
    "for i in l:\n",
    "    dfi = train_data[train_data.period == \"train{}\".format(i)].iloc[:, 2:90]\n",
    "    dfx = dfx.append((dfi - dfi.mean()) / dfi.std())\n",
    "train_X = dfx\n",
    "\n",
    "dfx = pd.DataFrame()\n",
    "for i in range(1, 11):\n",
    "    dfi = test_data[test_data.period == \"test{}\".format(i)].iloc[:, 1:-1]\n",
    "    dfx = dfx.append((dfi - dfi.mean()) / dfi.std())\n",
    "test_X = dfx\n",
    "test_X = test_X.loc[test_data.index]\n",
    "\n",
    "\n",
    "feature_select = [\"c12\", \"c80\", \"c48\", \"c81\"] #  0.69230\n",
    "train_X_select = train_X[feature_select]\n",
    "train_X_select[\"bias\"] = 1\n",
    "test_X_select = test_X[feature_select]\n",
    "test_X_select[\"bias\"] = 1\n",
    "\n",
    "w = np.linalg.inv(train_X_select.T.dot(train_X_select)).dot(train_X_select.T).dot(train_y)\n",
    "\n",
    "\n",
    "\n",
    "# 線形回帰\n",
    "sample_submission[1] = w.dot(test_X_select.T)\n",
    "sample_submission.to_csv(\"result.csv\", index=0)"
   ]
  },
  {
   "cell_type": "code",
   "execution_count": null,
   "metadata": {
    "collapsed": true
   },
   "outputs": [],
   "source": []
  },
  {
   "cell_type": "code",
   "execution_count": 11,
   "metadata": {},
   "outputs": [
    {
     "data": {
      "text/plain": [
       "0.32882895424872782"
      ]
     },
     "execution_count": 11,
     "metadata": {},
     "output_type": "execute_result"
    }
   ],
   "source": [
    "sample_submission[1].min()"
   ]
  },
  {
   "cell_type": "code",
   "execution_count": 12,
   "metadata": {},
   "outputs": [
    {
     "data": {
      "text/plain": [
       "0.66647767447132844"
      ]
     },
     "execution_count": 12,
     "metadata": {},
     "output_type": "execute_result"
    }
   ],
   "source": [
    "sample_submission[1].max()"
   ]
  },
  {
   "cell_type": "code",
   "execution_count": 13,
   "metadata": {},
   "outputs": [
    {
     "data": {
      "text/plain": [
       "<matplotlib.axes._subplots.AxesSubplot at 0x11b19bbd0>"
      ]
     },
     "execution_count": 13,
     "metadata": {},
     "output_type": "execute_result"
    },
    {
     "data": {
      "image/png": "[encoded data removed]",
      "text/plain": [
       "<matplotlib.figure.Figure at 0x11b19b210>"
      ]
     },
     "metadata": {},
     "output_type": "display_data"
    }
   ],
   "source": [
    "sample_submission[1].hist(bins=50)"
   ]
  }
 ],
 "metadata": {
  "kernelspec": {
   "display_name": "Python 2",
   "language": "python",
   "name": "python2"
  },
  "language_info": {
   "codemirror_mode": {
    "name": "ipython",
    "version": 2
   },
   "file_extension": ".py",
   "mimetype": "text/x-python",
   "name": "python",
   "nbconvert_exporter": "python",
   "pygments_lexer": "ipython2",
   "version": "2.7.6"
  }
 },
 "nbformat": 4,
 "nbformat_minor": 2
}
