{
 "cells": [
  {
   "cell_type": "code",
   "execution_count": 1,
   "metadata": {
    "collapsed": false
   },
   "outputs": [],
   "source": [
    "import pandas as pd\n",
    "import numpy as np\n",
    "import pandas as pd\n",
    "import sklearn\n",
    "from sklearn.model_selection import cross_val_score\n",
    "%matplotlib inline"
   ]
  },
  {
   "cell_type": "code",
   "execution_count": null,
   "metadata": {
    "collapsed": false
   },
   "outputs": [],
   "source": [
    "# ロジスティック回帰\n",
    "from sklearn.linear_model import LogisticRegression\n",
    "# SVM\n",
    "from sklearn.svm import LinearSVC\n",
    "# 決定木\n",
    "from sklearn.tree import  DecisionTreeClassifier\n",
    "# k-NN\n",
    "from sklearn.neighbors import  KNeighborsClassifier\n",
    "# ランダムフォレスト\n",
    "from sklearn.ensemble import RandomForestClassifier\n",
    "from sklearn.ensemble import RandomForestRegressor"
   ]
  },
  {
   "cell_type": "code",
   "execution_count": 2,
   "metadata": {
    "collapsed": true
   },
   "outputs": [],
   "source": [
    "df = pd.read_csv(\"train.csv\")"
   ]
  },
  {
   "cell_type": "code",
   "execution_count": null,
   "metadata": {
    "collapsed": false,
    "scrolled": true
   },
   "outputs": [],
   "source": [
    "df.head()"
   ]
  },
  {
   "cell_type": "code",
   "execution_count": null,
   "metadata": {
    "collapsed": false
   },
   "outputs": [],
   "source": [
    "df.iloc[:, 2:90].head()"
   ]
  },
  {
   "cell_type": "code",
   "execution_count": null,
   "metadata": {
    "collapsed": false
   },
   "outputs": [],
   "source": [
    "dfc = df.iloc[:, 2:90]\n",
    "standardized_df = (dfc - dfc.mean()) / dfc.std()"
   ]
  },
  {
   "cell_type": "code",
   "execution_count": null,
   "metadata": {
    "collapsed": false
   },
   "outputs": [],
   "source": [
    "standardized_df.head()"
   ]
  },
  {
   "cell_type": "code",
   "execution_count": null,
   "metadata": {
    "collapsed": false
   },
   "outputs": [],
   "source": [
    "X = standardized_df.as_matrix()\n",
    "Y = df['target'].as_matrix()"
   ]
  },
  {
   "cell_type": "code",
   "execution_count": null,
   "metadata": {
    "collapsed": false
   },
   "outputs": [],
   "source": [
    "best_score = 0\n",
    "best_method = \"\""
   ]
  },
  {
   "cell_type": "code",
   "execution_count": null,
   "metadata": {
    "collapsed": false
   },
   "outputs": [],
   "source": [
    "models = []\n",
    "#models.append(LogisticRegression())\n",
    "#models.append(DecisionTreeClassifier())\n",
    "#models.append(KNeighborsClassifier(n_neighbors=6))\n",
    "#models.append(LinearSVC())\n",
    "models.append(RandomForestClassifier())\n",
    "    \n",
    "for model in models:\n",
    "    score = cross_val_score(model, X, Y, cv=10).mean()\n",
    "    print(model.__class__.__name__, \":\", score)\n",
    "        \n",
    "    if score > best_score:\n",
    "        best_score = score\n",
    "        best_method = model.__class__.__name__\n",
    "            \n",
    "print(best_score)  "
   ]
  },
  {
   "cell_type": "code",
   "execution_count": null,
   "metadata": {
    "collapsed": false
   },
   "outputs": [],
   "source": [
    "forest_c = RandomForestClassifier()\n",
    "forest_c.fit(X, Y)\n",
    "y_test_pred = forest_c.predict(X[0:3])\n",
    "y_test_pred"
   ]
  },
  {
   "cell_type": "code",
   "execution_count": null,
   "metadata": {
    "collapsed": false
   },
   "outputs": [],
   "source": [
    "forest_r = RandomForestRegressor()\n",
    "forest_r.fit(X, Y)\n",
    "y_test_pred = forest_r.predict(X[0:3])\n",
    "y_test_pred"
   ]
  },
  {
   "cell_type": "code",
   "execution_count": null,
   "metadata": {
    "collapsed": false
   },
   "outputs": [],
   "source": [
    "df_test = pd.read_csv(\"test.csv\")\n",
    "df_test.head()"
   ]
  },
  {
   "cell_type": "code",
   "execution_count": null,
   "metadata": {
    "collapsed": false
   },
   "outputs": [],
   "source": [
    "dfc_test = df_test.iloc[:, 1:]\n",
    "standardized_df_test = (dfc_test - dfc.mean()) / dfc.std()"
   ]
  },
  {
   "cell_type": "code",
   "execution_count": null,
   "metadata": {
    "collapsed": false
   },
   "outputs": [],
   "source": [
    "X_test = standardized_df_test.as_matrix()\n",
    "Y_test = forest.predict(X_test)"
   ]
  },
  {
   "cell_type": "code",
   "execution_count": null,
   "metadata": {
    "collapsed": false
   },
   "outputs": [],
   "source": [
    "test_result  = pd.DataFrame()\n",
    "print(df_test[\"data_id\"].as_matrix()[-1])\n",
    "print(len(df_test.iloc[:, 0].as_matrix()))\n",
    "print(len(Y_test))\n",
    "test_result[\"data_id\"] = df_test[\"data_id\"].as_matrix()\n",
    "test_result[\"predict\"] = Y_test\n",
    "test_result.head()"
   ]
  },
  {
   "cell_type": "code",
   "execution_count": null,
   "metadata": {
    "collapsed": false
   },
   "outputs": [],
   "source": [
    "test_result.to_csv( 'result1.csv', index=False, header=False)"
   ]
  },
  {
   "cell_type": "code",
   "execution_count": null,
   "metadata": {
    "collapsed": false
   },
   "outputs": [],
   "source": [
    "Y_test = forest_c.predict(X_test)\n",
    "test_result  = pd.DataFrame()\n",
    "print(df_test[\"data_id\"].as_matrix()[-1])\n",
    "print(len(df_test.iloc[:, 0].as_matrix()))\n",
    "print(len(Y_test))\n",
    "test_result[\"data_id\"] = df_test[\"data_id\"].as_matrix()\n",
    "test_result[\"predict\"] = Y_test\n",
    "test_result.head()\n",
    "test_result.to_csv( 'result2.csv', index=False, header=False)"
   ]
  },
  {
   "cell_type": "code",
   "execution_count": null,
   "metadata": {
    "collapsed": true
   },
   "outputs": [],
   "source": [
    "Y_test = forest.predict(X_test)\n",
    "test_result  = pd.DataFrame()\n",
    "test_result[\"data_id\"] = df_test[\"data_id\"].as_matrix()\n",
    "test_result[\"predict\"] = (Y_test - 0.5) * 0.05 + 0.5\n",
    "test_result.head()\n",
    "test_result.to_csv( 'result4.csv', index=False, header=False)"
   ]
  },
  {
   "cell_type": "markdown",
   "metadata": {},
   "source": [
    "## テストperiod12"
   ]
  },
  {
   "cell_type": "code",
   "execution_count": 28,
   "metadata": {
    "collapsed": false
   },
   "outputs": [],
   "source": [
    "def logloss(pred_y, ans_y):\n",
    "    n = len(pred_y)\n",
    "    l1 = ans_y * np.log(pred_y)\n",
    "    l2 = (1 - ans_y) * np.log(1 - pred_y)\n",
    "    return -(l1+l2).sum() / n"
   ]
  },
  {
   "cell_type": "code",
   "execution_count": 166,
   "metadata": {
    "collapsed": false
   },
   "outputs": [
    {
     "data": {
      "text/html": [
       "<div>\n",
       "<style>\n",
       "    .dataframe thead tr:only-child th {\n",
       "        text-align: right;\n",
       "    }\n",
       "\n",
       "    .dataframe thead th {\n",
       "        text-align: left;\n",
       "    }\n",
       "\n",
       "    .dataframe tbody tr th {\n",
       "        vertical-align: top;\n",
       "    }\n",
       "</style>\n",
       "<table border=\"1\" class=\"dataframe\">\n",
       "  <thead>\n",
       "    <tr style=\"text-align: right;\">\n",
       "      <th></th>\n",
       "      <th>c1</th>\n",
       "      <th>c2</th>\n",
       "      <th>c3</th>\n",
       "      <th>c4</th>\n",
       "      <th>c5</th>\n",
       "      <th>c6</th>\n",
       "      <th>c7</th>\n",
       "      <th>c8</th>\n",
       "      <th>c9</th>\n",
       "      <th>c10</th>\n",
       "      <th>...</th>\n",
       "      <th>c79</th>\n",
       "      <th>c80</th>\n",
       "      <th>c81</th>\n",
       "      <th>c82</th>\n",
       "      <th>c83</th>\n",
       "      <th>c84</th>\n",
       "      <th>c85</th>\n",
       "      <th>c86</th>\n",
       "      <th>c87</th>\n",
       "      <th>c88</th>\n",
       "    </tr>\n",
       "  </thead>\n",
       "  <tbody>\n",
       "    <tr>\n",
       "      <th>0</th>\n",
       "      <td>0.726763</td>\n",
       "      <td>0.015386</td>\n",
       "      <td>-0.090032</td>\n",
       "      <td>-0.042341</td>\n",
       "      <td>-0.083035</td>\n",
       "      <td>-0.068639</td>\n",
       "      <td>5.878414</td>\n",
       "      <td>-0.044751</td>\n",
       "      <td>0.730857</td>\n",
       "      <td>0.237061</td>\n",
       "      <td>...</td>\n",
       "      <td>-0.185323</td>\n",
       "      <td>-0.408803</td>\n",
       "      <td>-1.326579</td>\n",
       "      <td>-0.186117</td>\n",
       "      <td>1.414590</td>\n",
       "      <td>-0.264498</td>\n",
       "      <td>-0.108806</td>\n",
       "      <td>-0.123108</td>\n",
       "      <td>-0.012547</td>\n",
       "      <td>-0.295558</td>\n",
       "    </tr>\n",
       "    <tr>\n",
       "      <th>1</th>\n",
       "      <td>1.697957</td>\n",
       "      <td>0.004508</td>\n",
       "      <td>-1.006064</td>\n",
       "      <td>0.462108</td>\n",
       "      <td>-0.083035</td>\n",
       "      <td>-0.068639</td>\n",
       "      <td>-0.172024</td>\n",
       "      <td>-0.044751</td>\n",
       "      <td>0.300393</td>\n",
       "      <td>0.237061</td>\n",
       "      <td>...</td>\n",
       "      <td>-1.956980</td>\n",
       "      <td>-1.271445</td>\n",
       "      <td>-0.662064</td>\n",
       "      <td>-0.186117</td>\n",
       "      <td>0.538905</td>\n",
       "      <td>-0.264498</td>\n",
       "      <td>-0.108806</td>\n",
       "      <td>-0.123108</td>\n",
       "      <td>-0.082544</td>\n",
       "      <td>0.307123</td>\n",
       "    </tr>\n",
       "    <tr>\n",
       "      <th>2</th>\n",
       "      <td>-0.644059</td>\n",
       "      <td>0.203050</td>\n",
       "      <td>-0.102739</td>\n",
       "      <td>-0.148018</td>\n",
       "      <td>-0.083035</td>\n",
       "      <td>-0.068639</td>\n",
       "      <td>-0.172024</td>\n",
       "      <td>-0.044751</td>\n",
       "      <td>-1.478668</td>\n",
       "      <td>0.237061</td>\n",
       "      <td>...</td>\n",
       "      <td>0.531980</td>\n",
       "      <td>0.192754</td>\n",
       "      <td>0.092325</td>\n",
       "      <td>-0.186117</td>\n",
       "      <td>-0.500690</td>\n",
       "      <td>-0.264498</td>\n",
       "      <td>-0.108806</td>\n",
       "      <td>4.591979</td>\n",
       "      <td>1.208295</td>\n",
       "      <td>1.014795</td>\n",
       "    </tr>\n",
       "    <tr>\n",
       "      <th>3</th>\n",
       "      <td>0.113384</td>\n",
       "      <td>-0.238953</td>\n",
       "      <td>-0.101332</td>\n",
       "      <td>-0.111108</td>\n",
       "      <td>-0.083035</td>\n",
       "      <td>-0.068639</td>\n",
       "      <td>4.373467</td>\n",
       "      <td>-0.044751</td>\n",
       "      <td>-1.525414</td>\n",
       "      <td>0.237061</td>\n",
       "      <td>...</td>\n",
       "      <td>-0.011370</td>\n",
       "      <td>0.018249</td>\n",
       "      <td>3.896778</td>\n",
       "      <td>-0.186117</td>\n",
       "      <td>-3.284138</td>\n",
       "      <td>-0.264498</td>\n",
       "      <td>-0.108806</td>\n",
       "      <td>-0.123108</td>\n",
       "      <td>-1.703313</td>\n",
       "      <td>-1.119036</td>\n",
       "    </tr>\n",
       "    <tr>\n",
       "      <th>4</th>\n",
       "      <td>-0.562934</td>\n",
       "      <td>0.522897</td>\n",
       "      <td>-0.272573</td>\n",
       "      <td>-1.053412</td>\n",
       "      <td>-0.083035</td>\n",
       "      <td>-0.068639</td>\n",
       "      <td>-0.172024</td>\n",
       "      <td>-0.044751</td>\n",
       "      <td>-0.368569</td>\n",
       "      <td>0.237061</td>\n",
       "      <td>...</td>\n",
       "      <td>0.396239</td>\n",
       "      <td>0.844155</td>\n",
       "      <td>-0.388804</td>\n",
       "      <td>-0.186117</td>\n",
       "      <td>-0.105040</td>\n",
       "      <td>-0.264498</td>\n",
       "      <td>-0.108806</td>\n",
       "      <td>-0.123108</td>\n",
       "      <td>-0.090238</td>\n",
       "      <td>0.287135</td>\n",
       "    </tr>\n",
       "  </tbody>\n",
       "</table>\n",
       "<p>5 rows × 88 columns</p>\n",
       "</div>"
      ],
      "text/plain": [
       "         c1        c2        c3        c4        c5        c6        c7  \\\n",
       "0  0.726763  0.015386 -0.090032 -0.042341 -0.083035 -0.068639  5.878414   \n",
       "1  1.697957  0.004508 -1.006064  0.462108 -0.083035 -0.068639 -0.172024   \n",
       "2 -0.644059  0.203050 -0.102739 -0.148018 -0.083035 -0.068639 -0.172024   \n",
       "3  0.113384 -0.238953 -0.101332 -0.111108 -0.083035 -0.068639  4.373467   \n",
       "4 -0.562934  0.522897 -0.272573 -1.053412 -0.083035 -0.068639 -0.172024   \n",
       "\n",
       "         c8        c9       c10    ...          c79       c80       c81  \\\n",
       "0 -0.044751  0.730857  0.237061    ...    -0.185323 -0.408803 -1.326579   \n",
       "1 -0.044751  0.300393  0.237061    ...    -1.956980 -1.271445 -0.662064   \n",
       "2 -0.044751 -1.478668  0.237061    ...     0.531980  0.192754  0.092325   \n",
       "3 -0.044751 -1.525414  0.237061    ...    -0.011370  0.018249  3.896778   \n",
       "4 -0.044751 -0.368569  0.237061    ...     0.396239  0.844155 -0.388804   \n",
       "\n",
       "        c82       c83       c84       c85       c86       c87       c88  \n",
       "0 -0.186117  1.414590 -0.264498 -0.108806 -0.123108 -0.012547 -0.295558  \n",
       "1 -0.186117  0.538905 -0.264498 -0.108806 -0.123108 -0.082544  0.307123  \n",
       "2 -0.186117 -0.500690 -0.264498 -0.108806  4.591979  1.208295  1.014795  \n",
       "3 -0.186117 -3.284138 -0.264498 -0.108806 -0.123108 -1.703313 -1.119036  \n",
       "4 -0.186117 -0.105040 -0.264498 -0.108806 -0.123108 -0.090238  0.287135  \n",
       "\n",
       "[5 rows x 88 columns]"
      ]
     },
     "execution_count": 166,
     "metadata": {},
     "output_type": "execute_result"
    }
   ],
   "source": [
    "df = pd.read_csv(\"train.csv\")\n",
    "df1 = df[df.period == \"train1\"].iloc[:, 2:90]\n",
    "standardized_df1 = (df1 - df1.mean()) / df1.std()\n",
    "df2 = df[df.period == \"train2\"].iloc[:, 2:90]\n",
    "standardized_df2 = (df2 - df2.mean()) / df2.std()\n",
    "df3 = df[df.period == \"train3\"].iloc[:, 2:90]\n",
    "standardized_df3 = (df3 - df3.mean()) / df3.std()\n",
    "df4 = df[df.period == \"train4\"].iloc[:, 2:90]\n",
    "standardized_df4 = (df4 - df4.mean()) / df4.std()\n",
    "df5 = df[df.period == \"train5\"].iloc[:, 2:90]\n",
    "standardized_df5 = (df5 - df5.mean()) / df5.std()\n",
    "df6 = df[df.period == \"train6\"].iloc[:, 2:90]\n",
    "standardized_df6 = (df6 - df6.mean()) / df6.std()\n",
    "df7 = df[df.period == \"train7\"].iloc[:, 2:90]\n",
    "standardized_df7 = (df7 - df7.mean()) / df7.std()\n",
    "df8 = df[df.period == \"train8\"].iloc[:, 2:90]\n",
    "standardized_df8 = (df8 - df8.mean()) / df8.std()\n",
    "df9 = df[df.period == \"train9\"].iloc[:, 2:90]\n",
    "standardized_df9 = (df9 - df9.mean()) / df9.std()\n",
    "df10 = df[df.period == \"train10\"].iloc[:, 2:90]\n",
    "standardized_df10 = (df10 - df10.mean()) / df10.std()\n",
    "df11 = df[df.period == \"train11\"].iloc[:, 2:90]\n",
    "standardized_df11 = (df11 - df11.mean()) / df11.std()\n",
    "df12 = df[df.period == \"train12\"].iloc[:, 2:90]\n",
    "standardized_df12 = (df12 - df12.mean()) / df12.std()\n",
    "df13 = df[df.period == \"train13\"].iloc[:, 2:90]\n",
    "standardized_df13 = (df13 - df13.mean()) / df13.std()\n",
    "df14 = df[df.period == \"train14\"].iloc[:, 2:90]\n",
    "standardized_df14 = (df14 - df14.mean()) / df14.std()\n",
    "dfx12 = pd.DataFrame()\n",
    "dfx12 = dfx12.append([standardized_df1, standardized_df2, standardized_df5, standardized_df8, standardized_df11])\n",
    "#dfx12 = dfx12.append(df2)\n",
    "dfx12.head()"
   ]
  },
  {
   "cell_type": "code",
   "execution_count": 167,
   "metadata": {
    "collapsed": false
   },
   "outputs": [],
   "source": [
    "dfa1 = df[df.period == \"train1\"].iloc[:, 90]\n",
    "dfa2 = df[df.period == \"train2\"].iloc[:, 90]\n",
    "dfa5 = df[df.period == \"train5\"].iloc[:, 90]\n",
    "dfa8 = df[df.period == \"train8\"].iloc[:, 90]\n",
    "dfa11 = df[df.period == \"train11\"].iloc[:, 90]\n",
    "dfy12 = pd.concat([dfa1, dfa2, dfa5, dfa8, dfa11])\n",
    "#dfy12 = dfa2"
   ]
  },
  {
   "cell_type": "code",
   "execution_count": 168,
   "metadata": {
    "collapsed": false
   },
   "outputs": [
    {
     "name": "stdout",
     "output_type": "stream",
     "text": [
      "((40000,), (40000,))\n"
     ]
    }
   ],
   "source": [
    "ans_12 = df[df.period == \"train12\"].iloc[:, 90].as_matrix()\n",
    "pred_12 = np.ones(len(ans_12)) * 0.5\n",
    "print(ans_12.shape, pred_12.shape)"
   ]
  },
  {
   "cell_type": "code",
   "execution_count": 169,
   "metadata": {
    "collapsed": false
   },
   "outputs": [
    {
     "data": {
      "text/plain": [
       "0.69314718055994529"
      ]
     },
     "execution_count": 169,
     "metadata": {},
     "output_type": "execute_result"
    }
   ],
   "source": [
    "logloss(pred_12, ans_12)"
   ]
  },
  {
   "cell_type": "code",
   "execution_count": 170,
   "metadata": {
    "collapsed": false,
    "scrolled": true
   },
   "outputs": [
    {
     "name": "stdout",
     "output_type": "stream",
     "text": [
      "   Coefficients Name\n",
      "1     -0.024250  c80\n",
      "0     -0.017499  c12\n",
      "2     -0.005180  c48\n",
      "3     -0.001994  c81\n",
      "4      0.001472  c76\n",
      "0.5\n"
     ]
    },
    {
     "data": {
      "text/plain": [
       "0.68950517012830148"
      ]
     },
     "execution_count": 170,
     "metadata": {},
     "output_type": "execute_result"
    }
   ],
   "source": [
    "from sklearn import linear_model\n",
    "clf = linear_model.LinearRegression()\n",
    "index = np.array([12, 80, 48, 81, 76]) -1\n",
    "X = dfx12.iloc[:, index].as_matrix()\n",
    "Y = dfy12\n",
    "clf.fit(X, Y)\n",
    "print(pd.DataFrame({\"Name\":dfx12.iloc[:, index].columns,\n",
    "                    \"Coefficients\":clf.coef_}).sort_values(by='Coefficients') )\n",
    "print(clf.intercept_)\n",
    "pred_12 = clf.predict(standardized_df12.iloc[:, index].as_matrix())\n",
    "logloss(pred_12, ans_12)"
   ]
  },
  {
   "cell_type": "markdown",
   "metadata": {},
   "source": [
    "### test9"
   ]
  },
  {
   "cell_type": "code",
   "execution_count": 197,
   "metadata": {
    "collapsed": true
   },
   "outputs": [],
   "source": [
    "dfx_9 = pd.DataFrame()\n",
    "append_list = [1,2,3,4,5,6,7,11,12]\n",
    "append_list2 = [eval(\"standardized_df{}\".format(i)) for i in append_list]\n",
    "dfx_9 = dfx_9.append(append_list2)\n",
    "append_list3 = []\n",
    "for i in append_list:\n",
    "    append_list3.append(df[df.period == \"train{}\".format(i)].iloc[:, 90])\n",
    "dfy_9 = pd.concat(append_list3)\n",
    "ans_9 = df[df.period == \"train9\"].iloc[:, 90].as_matrix()\n",
    "pred_9 = np.ones(len(ans_9)) * 0.5"
   ]
  },
  {
   "cell_type": "code",
   "execution_count": 198,
   "metadata": {
    "collapsed": false
   },
   "outputs": [
    {
     "data": {
      "text/plain": [
       "0.69314718055994529"
      ]
     },
     "execution_count": 198,
     "metadata": {},
     "output_type": "execute_result"
    }
   ],
   "source": [
    "logloss(pred_9, ans_9)"
   ]
  },
  {
   "cell_type": "code",
   "execution_count": 199,
   "metadata": {
    "collapsed": false
   },
   "outputs": [
    {
     "name": "stdout",
     "output_type": "stream",
     "text": [
      "   Coefficients Name\n",
      "1     -0.020349  c80\n",
      "0     -0.016080  c12\n",
      "4     -0.003446  c76\n",
      "3     -0.002399  c81\n",
      "2     -0.002143  c48\n",
      "0.5\n"
     ]
    },
    {
     "data": {
      "text/plain": [
       "0.6898523036844727"
      ]
     },
     "execution_count": 199,
     "metadata": {},
     "output_type": "execute_result"
    }
   ],
   "source": [
    "clf = linear_model.LinearRegression()\n",
    "index = np.array([12, 80, 48, 81, 76]) -1\n",
    "X = dfx_9.iloc[:, index].as_matrix()\n",
    "Y = dfy_9\n",
    "clf.fit(X, Y)\n",
    "print(pd.DataFrame({\"Name\":dfx_9.iloc[:, index].columns,\n",
    "                    \"Coefficients\":clf.coef_}).sort_values(by='Coefficients') )\n",
    "print(clf.intercept_)\n",
    "pred_9 = clf.predict(standardized_df9.iloc[:, index].as_matrix())\n",
    "logloss(pred_9, ans_9)"
   ]
  },
  {
   "cell_type": "markdown",
   "metadata": {},
   "source": [
    "## test本番"
   ]
  },
  {
   "cell_type": "code",
   "execution_count": 125,
   "metadata": {
    "collapsed": false
   },
   "outputs": [
    {
     "data": {
      "text/plain": [
       "(400000, 88)"
      ]
     },
     "execution_count": 125,
     "metadata": {},
     "output_type": "execute_result"
    }
   ],
   "source": [
    "df = pd.read_csv(\"train.csv\")\n",
    "df1 = df[df.period == \"train1\"].iloc[:, 2:90]\n",
    "standardized_df1 = (df1 - df1.mean()) / df1.std()\n",
    "df2 = df[df.period == \"train2\"].iloc[:, 2:90]\n",
    "standardized_df2 = (df2 - df2.mean()) / df2.std()\n",
    "df3 = df[df.period == \"train3\"].iloc[:, 2:90]\n",
    "standardized_df3 = (df3 - df3.mean()) / df3.std()\n",
    "df4 = df[df.period == \"train4\"].iloc[:, 2:90]\n",
    "standardized_df4 = (df4 - df4.mean()) / df4.std()\n",
    "df5 = df[df.period == \"train5\"].iloc[:, 2:90]\n",
    "standardized_df5 = (df5 - df5.mean()) / df5.std()\n",
    "df6 = df[df.period == \"train6\"].iloc[:, 2:90]\n",
    "standardized_df6 = (df6 - df6.mean()) / df6.std()\n",
    "df7 = df[df.period == \"train7\"].iloc[:, 2:90]\n",
    "standardized_df7 = (df7 - df7.mean()) / df7.std()\n",
    "df8 = df[df.period == \"train8\"].iloc[:, 2:90]\n",
    "standardized_df8 = (df8 - df8.mean()) / df8.std()\n",
    "df9 = df[df.period == \"train9\"].iloc[:, 2:90]\n",
    "standardized_df9 = (df9 - df9.mean()) / df9.std()\n",
    "df10 = df[df.period == \"train10\"].iloc[:, 2:90]\n",
    "standardized_df10 = (df10 - df10.mean()) / df10.std()\n",
    "df11 = df[df.period == \"train11\"].iloc[:, 2:90]\n",
    "standardized_df11 = (df11 - df11.mean()) / df11.std()\n",
    "df12 = df[df.period == \"train12\"].iloc[:, 2:90]\n",
    "standardized_df12 = (df12 - df12.mean()) / df12.std()\n",
    "df13 = df[df.period == \"train13\"].iloc[:, 2:90]\n",
    "standardized_df13 = (df13 - df13.mean()) / df13.std()\n",
    "df14 = df[df.period == \"train14\"].iloc[:, 2:90]\n",
    "standardized_df14 = (df14 - df14.mean()) / df14.std()\n",
    "dfx_test = pd.DataFrame()\n",
    "#dfx12 = dfx12.append([standardized_df1, standardized_df2, standardized_df5, standardized_df8, standardized_df11])\n",
    "append_list = [1,2,3,4,5,6,7,9,11,12]\n",
    "append_list2 = [eval(\"df{}\".format(i)) for i in append_list]\n",
    "dfx_test = dfx_test.append(append_list2)\n",
    "dfx_test.shape"
   ]
  },
  {
   "cell_type": "code",
   "execution_count": 126,
   "metadata": {
    "collapsed": false
   },
   "outputs": [
    {
     "data": {
      "text/plain": [
       "(400000,)"
      ]
     },
     "execution_count": 126,
     "metadata": {},
     "output_type": "execute_result"
    }
   ],
   "source": [
    "append_list3 = []\n",
    "for i in append_list:\n",
    "    #eval(\"dfa{}\".format(i)) = df[df.period == \"train{}\".format(i)].iloc[:, 90]\n",
    "    #append_list3.append(eval(\"dfa{}\".format(i)))\n",
    "    append_list3.append(df[df.period == \"train{}\".format(i)].iloc[:, 90])\n",
    "dfy_test = pd.concat(append_list3)\n",
    "dfy_test.shape"
   ]
  },
  {
   "cell_type": "code",
   "execution_count": 127,
   "metadata": {
    "collapsed": false
   },
   "outputs": [],
   "source": [
    "df_test = pd.read_csv(\"test.csv\")\n",
    "dfc_test = df_test.iloc[:, 1:]\n",
    "standardized_df_test = (dfc_test - dfc_test.mean()) / dfc_test.std()"
   ]
  },
  {
   "cell_type": "code",
   "execution_count": 128,
   "metadata": {
    "collapsed": false
   },
   "outputs": [
    {
     "name": "stdout",
     "output_type": "stream",
     "text": [
      "   Coefficients Name\n",
      "1     -0.188770  c80\n",
      "0     -0.172394  c12\n",
      "3     -0.102733  c81\n",
      "4     -0.049341  c76\n",
      "2     -0.000954  c48\n",
      "0.491517737056\n"
     ]
    }
   ],
   "source": [
    "from sklearn import linear_model\n",
    "clf = linear_model.LinearRegression(normalize=True)\n",
    "index = np.array([12, 80, 48, 81, 76]) -1\n",
    "X = dfx_test.iloc[:, index].as_matrix()\n",
    "Y = dfy_test\n",
    "clf.fit(X, Y)\n",
    "print(pd.DataFrame({\"Name\":dfx12.iloc[:, index].columns,\n",
    "                    \"Coefficients\":clf.coef_}).sort_values(by='Coefficients') )\n",
    "print(clf.intercept_)\n",
    "#pred_test = clf.predict(standardized_df_test.iloc[:, index].as_matrix())\n",
    "pred_test = clf.predict(dfc_test.iloc[:, index].as_matrix())"
   ]
  },
  {
   "cell_type": "code",
   "execution_count": 129,
   "metadata": {
    "collapsed": false
   },
   "outputs": [],
   "source": [
    "test_result  = pd.DataFrame()\n",
    "test_result[\"data_id\"] = df_test[\"data_id\"].as_matrix()\n",
    "test_result[\"predict\"] = pred_test\n",
    "test_result.to_csv( '../result12.5.csv', index=False, header=False)"
   ]
  },
  {
   "cell_type": "code",
   "execution_count": null,
   "metadata": {
    "collapsed": true
   },
   "outputs": [],
   "source": []
  }
 ],
 "metadata": {
  "anaconda-cloud": {},
  "kernelspec": {
   "display_name": "Python [Root]",
   "language": "python",
   "name": "Python [Root]"
  },
  "language_info": {
   "codemirror_mode": {
    "name": "ipython",
    "version": 2
   },
   "file_extension": ".py",
   "mimetype": "text/x-python",
   "name": "python",
   "nbconvert_exporter": "python",
   "pygments_lexer": "ipython2",
   "version": "2.7.12"
  }
 },
 "nbformat": 4,
 "nbformat_minor": 2
}
